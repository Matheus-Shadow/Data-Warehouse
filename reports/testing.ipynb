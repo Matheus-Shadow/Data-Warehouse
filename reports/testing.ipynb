{
 "cells": [
  {
   "cell_type": "code",
   "execution_count": 1,
   "metadata": {},
   "outputs": [],
   "source": [
    "import requests\n",
    "def send_message(token, chat_id, message, topico):\n",
    "    \"\"\"\n",
    "    Envia uma mensagem de texto para um chat no Telegram.\n",
    "\n",
    "    Parameters:\n",
    "        token (str): O token do bot do Telegram.\n",
    "        chat_id (str): O ID do chat para o qual a mensagem será enviada.\n",
    "        message (str): O texto da mensagem a ser enviada.\n",
    "        topico (int, optional): O ID do tópico para o qual a mensagem será enviada.\n",
    "\n",
    "    Returns:\n",
    "        None\n",
    "\n",
    "    Exemplo de uso:\n",
    "        send_message('seu_token', 'ID_do_chat', 'Esta é uma mensagem de exemplo.')\n",
    "    \"\"\"\n",
    "    try:\n",
    "        # Define um dicionário 'data' com os parâmetros necessários para enviar a mensagem\n",
    "        data = {\"chat_id\": chat_id, \"text\": message}\n",
    "        \n",
    "        # Se message_thread_id for fornecido, adicione ao dicionário 'data'\n",
    "        if topico:\n",
    "            data[\"message_thread_id\"] = topico\n",
    "        \n",
    "        # Monta a URL da API do Telegram com o token do bot\n",
    "        url = \"https://api.telegram.org/bot{}/sendMessage\".format(token)\n",
    "        \n",
    "        # Envia a requisição POST para a URL com os dados da mensagem\n",
    "        requests.post(url, data)\n",
    "        print('Mensagem Enviada')\n",
    "    except Exception as e:\n",
    "        # Captura e imprime qualquer erro que ocorra durante o envio\n",
    "        print(\"Erro no sendMessage:\", e)"
   ]
  },
  {
   "cell_type": "code",
   "execution_count": 3,
   "metadata": {},
   "outputs": [
    {
     "name": "stdout",
     "output_type": "stream",
     "text": [
      "Mensagem Enviada\n"
     ]
    }
   ],
   "source": [
    "token = '7466973761:AAEj-x3A4bGmu7nls3UMrDSvy3JHfzfCj88'\n",
    "chat = '-1002181876568'\n",
    "topico = '5'\n",
    "\n",
    "send_message(token= token, chat_id= chat, message='testando', topico=topico)"
   ]
  },
  {
   "cell_type": "code",
   "execution_count": 23,
   "metadata": {},
   "outputs": [
    {
     "ename": "",
     "evalue": "",
     "output_type": "error",
     "traceback": [
      "\u001b[1;31mThe Kernel crashed while executing code in the current cell or a previous cell. \n",
      "\u001b[1;31mPlease review the code in the cell(s) to identify a possible cause of the failure. \n",
      "\u001b[1;31mClick <a href='https://aka.ms/vscodeJupyterKernelCrash'>here</a> for more info. \n",
      "\u001b[1;31mView Jupyter <a href='command:jupyter.viewOutput'>log</a> for further details."
     ]
    }
   ],
   "source": [
    "# Define uma função chamada 'send_message' que envia uma mensagem para um chat no Telegram\n",
    "def send_message(token, chat_id, message):\n",
    "    \"\"\"\n",
    "    Envia uma mensagem de texto para um chat no Telegram.\n",
    "\n",
    "    Parameters:\n",
    "        token (str): O token do bot do Telegram.\n",
    "        chat_id (str): O ID do chat para o qual a mensagem será enviada.\n",
    "        message (str): O texto da mensagem a ser enviada.\n",
    "\n",
    "    Returns:\n",
    "        None\n",
    "\n",
    "    Exemplo de uso:\n",
    "        send_message('seu_token', 'ID_do_chat', 'Esta é uma mensagem de exemplo.')\n",
    "    \"\"\"\n",
    "    try:\n",
    "        # Define um dicionário 'data' com os parâmetros necessários para enviar a mensagem\n",
    "        data = {\"chat_id\": chat_id, \"text\": message}\n",
    "        \n",
    "        # Monta a URL da API do Telegram com o token do bot\n",
    "        url = \"https://api.telegram.org/bot{}/sendMessage\".format(token)\n",
    "        \n",
    "        # Envia a requisição POST para a URL com os dados da mensagem\n",
    "        requests.post(url, data)\n",
    "    except Exception as e:\n",
    "        # Captura e imprime qualquer erro que ocorra durante o envio\n",
    "        print(\"Erro no sendMessage:\", e)\n",
    "\n",
    "send_message(token=token, chat_id= chat,message='Oi')\n"
   ]
  },
  {
   "cell_type": "code",
   "execution_count": 21,
   "metadata": {},
   "outputs": [
    {
     "name": "stdout",
     "output_type": "stream",
     "text": [
      "Seu chat_id é: 770780126\n"
     ]
    }
   ],
   "source": [
    "import requests\n",
    "\n",
    "# Substitua pelo seu token\n",
    "token = '7466973761:AAEj-x3A4bGmu7nls3UMrDSvy3JHfzfCj88'\n",
    "\n",
    "# URL da API do Telegram para obter atualizações\n",
    "url = f'https://api.telegram.org/bot{token}/getUpdates'\n",
    "\n",
    "def get_chat_id():\n",
    "    response = requests.get(url)\n",
    "    \n",
    "    if response.status_code == 200:\n",
    "        updates = response.json()\n",
    "        \n",
    "        if 'result' in updates and updates['result']:\n",
    "            for update in updates['result']:\n",
    "                if 'message' in update:\n",
    "                    chat_id = update['message']['chat']['id']\n",
    "                    print(f'Seu chat_id é: {chat_id}')\n",
    "                    return chat_id\n",
    "                else:\n",
    "                    print('Nenhuma mensagem encontrada no update:', update)\n",
    "        else:\n",
    "            print('Nenhuma mensagem recebida.')\n",
    "    else:\n",
    "        print(f'Erro ao acessar a API do Telegram: {response.status_code}')\n",
    "\n",
    "if __name__ == '__main__':\n",
    "    get_chat_id()\n"
   ]
  },
  {
   "cell_type": "code",
   "execution_count": null,
   "metadata": {},
   "outputs": [],
   "source": []
  }
 ],
 "metadata": {
  "kernelspec": {
   "display_name": "base",
   "language": "python",
   "name": "python3"
  },
  "language_info": {
   "codemirror_mode": {
    "name": "ipython",
    "version": 3
   },
   "file_extension": ".py",
   "mimetype": "text/x-python",
   "name": "python",
   "nbconvert_exporter": "python",
   "pygments_lexer": "ipython3",
   "version": "3.11.5"
  }
 },
 "nbformat": 4,
 "nbformat_minor": 2
}
