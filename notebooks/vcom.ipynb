{
    "metadata": {
        "kernelspec": {
            "name": "SQL",
            "display_name": "SQL",
            "language": "sql"
        },
        "language_info": {
            "name": "sql",
            "version": ""
        }
    },
    "nbformat_minor": 2,
    "nbformat": 4,
    "cells": [
        {
            "cell_type": "code",
            "source": [
                "SELECT \r\n",
                "    coluna , \r\n",
                "    tipo , \r\n",
                "    DESCRIÇÃO, \r\n",
                "    IS_COMPUTED\r\n",
                " FROM V_COLUNAS WHERE TABELA='BOLETOS_EM' "
            ],
            "metadata": {
                "azdata_cell_guid": "a8fc0e6f-115a-4234-87f8-23eb0dc3f0e4",
                "language": "sql"
            },
            "outputs": [
                {
                    "output_type": "display_data",
                    "data": {
                        "text/html": "(87 rows affected)"
                    },
                    "metadata": {}
                },
                {
                    "output_type": "display_data",
                    "data": {
                        "text/html": "Total execution time: 00:00:00.259"
                    },
                    "metadata": {}
                },
                {
                    "output_type": "execute_result",
                    "execution_count": 53,
                    "data": {
                        "application/vnd.dataresource+json": {
                            "schema": {
                                "fields": [
                                    {
                                        "name": "coluna"
                                    },
                                    {
                                        "name": "tipo"
                                    },
                                    {
                                        "name": "DESCRIÇÃO"
                                    },
                                    {
                                        "name": "IS_COMPUTED"
                                    }
                                ]
                            },
                            "data": [
                                {
                                    "coluna": "Cod_BEm",
                                    "tipo": "int",
                                    "DESCRIÇÃO": "CÓDIGO (CHAVE)",
                                    "IS_COMPUTED": "0"
                                },
                                {
                                    "coluna": "Cod_Bol",
                                    "tipo": "int",
                                    "DESCRIÇÃO": "CÓDIGO DO BOLETO",
                                    "IS_COMPUTED": "0"
                                },
                                {
                                    "coluna": "Seq_Bol",
                                    "tipo": "float",
                                    "DESCRIÇÃO": "SEQUENCIAL PARA FORMAÇÃO DO NOSSO NÚMERO",
                                    "IS_COMPUTED": "0"
                                },
                                {
                                    "coluna": "Cod_Tit",
                                    "tipo": "int",
                                    "DESCRIÇÃO": "CÓDIGO DO TÍTULO",
                                    "IS_COMPUTED": "0"
                                },
                                {
                                    "coluna": "IdBanco",
                                    "tipo": "char",
                                    "DESCRIÇÃO": "NUMERO DO BANCO",
                                    "IS_COMPUTED": "0"
                                },
                                {
                                    "coluna": "IdMoeda",
                                    "tipo": "char",
                                    "DESCRIÇÃO": "CÓDIGO DA MOEDA",
                                    "IS_COMPUTED": "0"
                                },
                                {
                                    "coluna": "V_CodBarra",
                                    "tipo": "char",
                                    "DESCRIÇÃO": "DIGITO CODIGO DE BARRAS",
                                    "IS_COMPUTED": "0"
                                },
                                {
                                    "coluna": "IdValor",
                                    "tipo": "char",
                                    "DESCRIÇÃO": "VALOR DO BOLETO",
                                    "IS_COMPUTED": "0"
                                },
                                {
                                    "coluna": "IdAgencia",
                                    "tipo": "varchar",
                                    "DESCRIÇÃO": "AGENCIA DO BOLETO",
                                    "IS_COMPUTED": "0"
                                },
                                {
                                    "coluna": "IdCarteira",
                                    "tipo": "char",
                                    "DESCRIÇÃO": "CARTEIRA",
                                    "IS_COMPUTED": "0"
                                },
                                {
                                    "coluna": "IdAnoNossoNumero",
                                    "tipo": "char",
                                    "DESCRIÇÃO": "X",
                                    "IS_COMPUTED": "0"
                                },
                                {
                                    "coluna": "IdNossoNumero",
                                    "tipo": "char",
                                    "DESCRIÇÃO": "NOSSO NÚMERO SEM O DIGITO",
                                    "IS_COMPUTED": "0"
                                },
                                {
                                    "coluna": "V_NossoNumero",
                                    "tipo": "char",
                                    "DESCRIÇÃO": "DIGITO DO NOSSO NÚMERO",
                                    "IS_COMPUTED": "0"
                                },
                                {
                                    "coluna": "IdConta",
                                    "tipo": "varchar",
                                    "DESCRIÇÃO": "NÚMERO DA CONTA",
                                    "IS_COMPUTED": "0"
                                },
                                {
                                    "coluna": "CodigoBarra",
                                    "tipo": "char",
                                    "DESCRIÇÃO": "CODIGO DE BARRAS DO BOLETO",
                                    "IS_COMPUTED": "0"
                                },
                                {
                                    "coluna": "LinhaDigitavel",
                                    "tipo": "char",
                                    "DESCRIÇÃO": "LINHA DIGITÁVEL DO BOLETO",
                                    "IS_COMPUTED": "0"
                                },
                                {
                                    "coluna": "NomeBanco",
                                    "tipo": "varchar",
                                    "DESCRIÇÃO": "NOME DO BANCO",
                                    "IS_COMPUTED": "0"
                                },
                                {
                                    "coluna": "NomeCedente",
                                    "tipo": "char",
                                    "DESCRIÇÃO": "NOME DO CEDENTE",
                                    "IS_COMPUTED": "0"
                                },
                                {
                                    "coluna": "LogoBanco",
                                    "tipo": "image",
                                    "DESCRIÇÃO": "LOGOTIPO DO BANCO",
                                    "IS_COMPUTED": "0"
                                },
                                {
                                    "coluna": "LocalPagamento",
                                    "tipo": "char",
                                    "DESCRIÇÃO": "LOCAL PARA PAGAMENTO DO BOLETO",
                                    "IS_COMPUTED": "0"
                                },
                                {
                                    "coluna": "DataVencimento",
                                    "tipo": "datetime",
                                    "DESCRIÇÃO": "DATA DO VENCIMENTO DO BOLETO",
                                    "IS_COMPUTED": "0"
                                },
                                {
                                    "coluna": "ValorVencimento",
                                    "tipo": "float",
                                    "DESCRIÇÃO": "VALOR DO BOLETO",
                                    "IS_COMPUTED": "0"
                                },
                                {
                                    "coluna": "Parc_ini",
                                    "tipo": "int",
                                    "DESCRIÇÃO": "PARCELA INICIAL",
                                    "IS_COMPUTED": "0"
                                },
                                {
                                    "coluna": "Parc_fin",
                                    "tipo": "int",
                                    "DESCRIÇÃO": "PARCELA FINAL",
                                    "IS_COMPUTED": "0"
                                },
                                {
                                    "coluna": "DataPagamento",
                                    "tipo": "datetime",
                                    "DESCRIÇÃO": "DATA DO PAGAMENTO, APÓS EFETIVADO",
                                    "IS_COMPUTED": "0"
                                },
                                {
                                    "coluna": "ValorPagamento",
                                    "tipo": "numeric",
                                    "DESCRIÇÃO": "VALOR PARA PAGAMENTO DO BOLETO",
                                    "IS_COMPUTED": "0"
                                },
                                {
                                    "coluna": "DataDocumento",
                                    "tipo": "datetime",
                                    "DESCRIÇÃO": "DATA DE DOCUMENTO ASSESSORIA",
                                    "IS_COMPUTED": "0"
                                },
                                {
                                    "coluna": "NumeroDocumento",
                                    "tipo": "varchar",
                                    "DESCRIÇÃO": "DOCUMENTO ASSESSORIA",
                                    "IS_COMPUTED": "0"
                                },
                                {
                                    "coluna": "Especie",
                                    "tipo": "char",
                                    "DESCRIÇÃO": "ESPÉCIE DA MOEDA",
                                    "IS_COMPUTED": "0"
                                },
                                {
                                    "coluna": "DataProcessamento",
                                    "tipo": "datetime",
                                    "DESCRIÇÃO": "DATA EM QUE FOI PROCESSADO O PAGAMENTO",
                                    "IS_COMPUTED": "0"
                                },
                                {
                                    "coluna": "Instrucao1_Bol",
                                    "tipo": "varchar",
                                    "DESCRIÇÃO": "INSTRUÇÃO DO BOLETO, 1ª LINHA",
                                    "IS_COMPUTED": "0"
                                },
                                {
                                    "coluna": "Instrucao2_Bol",
                                    "tipo": "varchar",
                                    "DESCRIÇÃO": "INSTRUÇÃO DO BOLETO, 2ª LINHA",
                                    "IS_COMPUTED": "0"
                                },
                                {
                                    "coluna": "Instrucao3_Bol",
                                    "tipo": "varchar",
                                    "DESCRIÇÃO": "INSTRUÇÃO DO BOLETO, 3ª LINHA",
                                    "IS_COMPUTED": "0"
                                },
                                {
                                    "coluna": "Instrucao4_Bol",
                                    "tipo": "varchar",
                                    "DESCRIÇÃO": "INSTRUÇÃO DO BOLETO, 4ª LINHA",
                                    "IS_COMPUTED": "0"
                                },
                                {
                                    "coluna": "Instrucao5_Bol",
                                    "tipo": "varchar",
                                    "DESCRIÇÃO": "INSTRUÇÃO DO BOLETO, 5ª LINHA",
                                    "IS_COMPUTED": "0"
                                },
                                {
                                    "coluna": "A4",
                                    "tipo": "bit",
                                    "DESCRIÇÃO": "INDICA SE É IMPRESSO EM PAPEL A4",
                                    "IS_COMPUTED": "0"
                                },
                                {
                                    "coluna": "NossoN",
                                    "tipo": "bit",
                                    "DESCRIÇÃO": "INDICA SE ESTÁ HABILITADO O NOSSO NÚMERO",
                                    "IS_COMPUTED": "0"
                                },
                                {
                                    "coluna": "ImpNossoNum",
                                    "tipo": "varchar",
                                    "DESCRIÇÃO": "NOSSO NÚMERO IMPRESSO",
                                    "IS_COMPUTED": "0"
                                },
                                {
                                    "coluna": "IMPRESSO",
                                    "tipo": "bit",
                                    "DESCRIÇÃO": "INDICA SE O BOLETO FOI IMPRESSO",
                                    "IS_COMPUTED": "0"
                                },
                                {
                                    "coluna": "COD_CARTA",
                                    "tipo": "int",
                                    "DESCRIÇÃO": "CÓDIGO DA CARTA USADA NO BOLETO",
                                    "IS_COMPUTED": "0"
                                },
                                {
                                    "coluna": "CANCELADO_BOL",
                                    "tipo": "bit",
                                    "DESCRIÇÃO": "INDICA SE O BOLETO FOI CANCELADO",
                                    "IS_COMPUTED": "0"
                                },
                                {
                                    "coluna": "COD_LOT",
                                    "tipo": "int",
                                    "DESCRIÇÃO": "CÓDIGO DO LOTE DE BOLETOS",
                                    "IS_COMPUTED": "0"
                                },
                                {
                                    "coluna": "USUARIO_CAD",
                                    "tipo": "int",
                                    "DESCRIÇÃO": "CÓDIGO DO USUÁRIO QUE EMITIU O BOLETO",
                                    "IS_COMPUTED": "0"
                                },
                                {
                                    "coluna": "tarifa_bol",
                                    "tipo": "numeric",
                                    "DESCRIÇÃO": "VALOR DA TARIFA/TAXA",
                                    "IS_COMPUTED": "0"
                                },
                                {
                                    "coluna": "COD_CEDENTE",
                                    "tipo": "varchar",
                                    "DESCRIÇÃO": "CÓDIGO DO CEDENTE",
                                    "IS_COMPUTED": "0"
                                },
                                {
                                    "coluna": "DATA_UP",
                                    "tipo": "datetime",
                                    "DESCRIÇÃO": "DATA DA ÚLTIMA ALTERAÇÃO",
                                    "IS_COMPUTED": "0"
                                },
                                {
                                    "coluna": "COD_LOTE_EXP",
                                    "tipo": "int",
                                    "DESCRIÇÃO": "CÓDIGO DO LOTE DE EXPORTAÇÃO",
                                    "IS_COMPUTED": "0"
                                },
                                {
                                    "coluna": "DT_CANC_BOL",
                                    "tipo": "datetime",
                                    "DESCRIÇÃO": "DATA DE CANCELAMENTO DO BOLETO",
                                    "IS_COMPUTED": "0"
                                },
                                {
                                    "coluna": "COD_BOLTP",
                                    "tipo": "int",
                                    "DESCRIÇÃO": "CÓDIGO DO TIPO DE ENVIO",
                                    "IS_COMPUTED": "0"
                                },
                                {
                                    "coluna": "DESTINATARIO",
                                    "tipo": "varchar",
                                    "DESCRIÇÃO": "DESTINATARIO PARA ENVIO POR EMAIL",
                                    "IS_COMPUTED": "0"
                                },
                                {
                                    "coluna": "DATA_ENVIO",
                                    "tipo": "datetime",
                                    "DESCRIÇÃO": "DATA DE ENVIO DO BOLETO",
                                    "IS_COMPUTED": "0"
                                },
                                {
                                    "coluna": "FILIAL",
                                    "tipo": "int",
                                    "DESCRIÇÃO": "CÓDIGO DA UNIDADE DE COBRANÇA",
                                    "IS_COMPUTED": "0"
                                },
                                {
                                    "coluna": "COD_STAT",
                                    "tipo": "int",
                                    "DESCRIÇÃO": "CÓDIGO DO STATUS DO BOLETO",
                                    "IS_COMPUTED": "0"
                                },
                                {
                                    "coluna": "DATA_AGENDAMENTO_ENVIO",
                                    "tipo": "datetime",
                                    "DESCRIÇÃO": "DATA PARA AGENDAMENTO DE ENVIO DE BOLETO",
                                    "IS_COMPUTED": "0"
                                },
                                {
                                    "coluna": "STATUS_ENVIO",
                                    "tipo": "varchar",
                                    "DESCRIÇÃO": "STATUS DO ENVIO DO BOLETO",
                                    "IS_COMPUTED": "0"
                                },
                                {
                                    "coluna": "COD_IMP",
                                    "tipo": "int",
                                    "DESCRIÇÃO": "CÓDIGO DA IMPORTAÇÃO, QUANDO O BOLETO É ENVIADO PELO CREDOR",
                                    "IS_COMPUTED": "0"
                                },
                                {
                                    "coluna": "For_Nome",
                                    "tipo": "varchar",
                                    "DESCRIÇÃO": "NOME DO FORNECEDOR",
                                    "IS_COMPUTED": "0"
                                },
                                {
                                    "coluna": "For_CPFCNPJ",
                                    "tipo": "varchar",
                                    "DESCRIÇÃO": "CPF/CNPJ DO FORNECEDOR",
                                    "IS_COMPUTED": "0"
                                },
                                {
                                    "coluna": "For_Endereco",
                                    "tipo": "varchar",
                                    "DESCRIÇÃO": "ENDEREÇO DO FORNECEDOR",
                                    "IS_COMPUTED": "0"
                                },
                                {
                                    "coluna": "For_Cidade",
                                    "tipo": "varchar",
                                    "DESCRIÇÃO": "CIDADE DO FORNECEDOR",
                                    "IS_COMPUTED": "0"
                                },
                                {
                                    "coluna": "For_UF",
                                    "tipo": "varchar",
                                    "DESCRIÇÃO": "ESTADO DO FORNECEDOR",
                                    "IS_COMPUTED": "0"
                                },
                                {
                                    "coluna": "For_CEP",
                                    "tipo": "varchar",
                                    "DESCRIÇÃO": "CEP DO FORNECEDOR",
                                    "IS_COMPUTED": "0"
                                },
                                {
                                    "coluna": "CONTROLE_BEM",
                                    "tipo": "varchar",
                                    "DESCRIÇÃO": "",
                                    "IS_COMPUTED": "0"
                                },
                                {
                                    "coluna": "For_Bairro",
                                    "tipo": "varchar",
                                    "DESCRIÇÃO": "BAIRRO DO FORNECEDOR",
                                    "IS_COMPUTED": "0"
                                },
                                {
                                    "coluna": "For_Fone1",
                                    "tipo": "varchar",
                                    "DESCRIÇÃO": "TELFONE DO FORNECEDOR",
                                    "IS_COMPUTED": "0"
                                },
                                {
                                    "coluna": "For_Infoad",
                                    "tipo": "varchar",
                                    "DESCRIÇÃO": "INFORMAÇÕES ADICIONAIS DO FORNECEDOR",
                                    "IS_COMPUTED": "0"
                                },
                                {
                                    "coluna": "Nro_Prorrogacoes",
                                    "tipo": "int",
                                    "DESCRIÇÃO": "NÚMERO DE PRORROGAÇÕES DO BOLETO",
                                    "IS_COMPUTED": "0"
                                },
                                {
                                    "coluna": "SubTipoEvio",
                                    "tipo": "int",
                                    "DESCRIÇÃO": "ND",
                                    "IS_COMPUTED": "0"
                                },
                                {
                                    "coluna": "For_Email",
                                    "tipo": "varchar",
                                    "DESCRIÇÃO": "EMAIL DO FORNECEDOR",
                                    "IS_COMPUTED": "0"
                                },
                                {
                                    "coluna": "DATAVENCIMENTO_ORIGINAL",
                                    "tipo": "datetime",
                                    "DESCRIÇÃO": "DATA DE VENCIMENTO ORIGINAL",
                                    "IS_COMPUTED": "0"
                                },
                                {
                                    "coluna": "BOL_TAXA_DESP",
                                    "tipo": "bit",
                                    "DESCRIÇÃO": "INDICA SE É BOLETO APENAS COM TAXA OU DESPESA",
                                    "IS_COMPUTED": "0"
                                },
                                {
                                    "coluna": "INSTRUCAO6_BOL",
                                    "tipo": "char",
                                    "DESCRIÇÃO": "INSTRUÇÃO DO BOLETO, 6ª LINHA",
                                    "IS_COMPUTED": "0"
                                },
                                {
                                    "coluna": "INSTRUCAO7_BOL",
                                    "tipo": "char",
                                    "DESCRIÇÃO": "INSTRUÇÃO DO BOLETO, 7ª LINHA",
                                    "IS_COMPUTED": "0"
                                },
                                {
                                    "coluna": "INSTRUCAO8_BOL",
                                    "tipo": "char",
                                    "DESCRIÇÃO": "INSTRUÇÃO DO BOLETO, 8ª LINHA",
                                    "IS_COMPUTED": "0"
                                },
                                {
                                    "coluna": "INSTRUCAO9_BOL",
                                    "tipo": "char",
                                    "DESCRIÇÃO": "INSTRUÇÃO DO BOLETO, 9ª LINHA",
                                    "IS_COMPUTED": "0"
                                },
                                {
                                    "coluna": "DT_ULT_ENVIO",
                                    "tipo": "datetime",
                                    "DESCRIÇÃO": "DATA DO ÚLTIMO ENVIO DO BOLETO",
                                    "IS_COMPUTED": "0"
                                },
                                {
                                    "coluna": "COD_HIST_CLI",
                                    "tipo": "int",
                                    "DESCRIÇÃO": "NULL",
                                    "IS_COMPUTED": "0"
                                },
                                {
                                    "coluna": "BOL_SOMENTE_TAXA",
                                    "tipo": "bit",
                                    "DESCRIÇÃO": "NULL",
                                    "IS_COMPUTED": "0"
                                },
                                {
                                    "coluna": "SistemaOrigem",
                                    "tipo": "int",
                                    "DESCRIÇÃO": "NULL",
                                    "IS_COMPUTED": "0"
                                },
                                {
                                    "coluna": "REGISTRO",
                                    "tipo": "int",
                                    "DESCRIÇÃO": "NULL",
                                    "IS_COMPUTED": "0"
                                },
                                {
                                    "coluna": "REGISTRO_STATUS",
                                    "tipo": "int",
                                    "DESCRIÇÃO": "NULL",
                                    "IS_COMPUTED": "0"
                                },
                                {
                                    "coluna": "USUARIO_AUTORIZACAO",
                                    "tipo": "varchar",
                                    "DESCRIÇÃO": "NULL",
                                    "IS_COMPUTED": "0"
                                },
                                {
                                    "coluna": "DigitoBanco",
                                    "tipo": "char",
                                    "DESCRIÇÃO": "NULL",
                                    "IS_COMPUTED": "0"
                                },
                                {
                                    "coluna": "DEBITO_CONTA",
                                    "tipo": "bit",
                                    "DESCRIÇÃO": "NULL",
                                    "IS_COMPUTED": "0"
                                },
                                {
                                    "coluna": "PAGAMENTO_CARTAO",
                                    "tipo": "bit",
                                    "DESCRIÇÃO": "NULL",
                                    "IS_COMPUTED": "0"
                                },
                                {
                                    "coluna": "USUARIO_CANC",
                                    "tipo": "int",
                                    "DESCRIÇÃO": "NULL",
                                    "IS_COMPUTED": "0"
                                },
                                {
                                    "coluna": "CALC_PARCIAL_VCSERVICOS",
                                    "tipo": "bit",
                                    "DESCRIÇÃO": "NULL",
                                    "IS_COMPUTED": "0"
                                }
                            ]
                        },
                        "text/html": "<table><tr><th>coluna</th><th>tipo</th><th>DESCRIÇÃO</th><th>IS_COMPUTED</th></tr><tr><td>Cod_BEm</td><td>int</td><td>CÓDIGO (CHAVE)</td><td>0</td></tr><tr><td>Cod_Bol</td><td>int</td><td>CÓDIGO DO BOLETO</td><td>0</td></tr><tr><td>Seq_Bol</td><td>float</td><td>SEQUENCIAL PARA FORMAÇÃO DO NOSSO NÚMERO</td><td>0</td></tr><tr><td>Cod_Tit</td><td>int</td><td>CÓDIGO DO TÍTULO</td><td>0</td></tr><tr><td>IdBanco</td><td>char</td><td>NUMERO DO BANCO</td><td>0</td></tr><tr><td>IdMoeda</td><td>char</td><td>CÓDIGO DA MOEDA</td><td>0</td></tr><tr><td>V_CodBarra</td><td>char</td><td>DIGITO CODIGO DE BARRAS</td><td>0</td></tr><tr><td>IdValor</td><td>char</td><td>VALOR DO BOLETO</td><td>0</td></tr><tr><td>IdAgencia</td><td>varchar</td><td>AGENCIA DO BOLETO</td><td>0</td></tr><tr><td>IdCarteira</td><td>char</td><td>CARTEIRA</td><td>0</td></tr><tr><td>IdAnoNossoNumero</td><td>char</td><td>X</td><td>0</td></tr><tr><td>IdNossoNumero</td><td>char</td><td>NOSSO NÚMERO SEM O DIGITO</td><td>0</td></tr><tr><td>V_NossoNumero</td><td>char</td><td>DIGITO DO NOSSO NÚMERO</td><td>0</td></tr><tr><td>IdConta</td><td>varchar</td><td>NÚMERO DA CONTA</td><td>0</td></tr><tr><td>CodigoBarra</td><td>char</td><td>CODIGO DE BARRAS DO BOLETO</td><td>0</td></tr><tr><td>LinhaDigitavel</td><td>char</td><td>LINHA DIGITÁVEL DO BOLETO</td><td>0</td></tr><tr><td>NomeBanco</td><td>varchar</td><td>NOME DO BANCO</td><td>0</td></tr><tr><td>NomeCedente</td><td>char</td><td>NOME DO CEDENTE</td><td>0</td></tr><tr><td>LogoBanco</td><td>image</td><td>LOGOTIPO DO BANCO</td><td>0</td></tr><tr><td>LocalPagamento</td><td>char</td><td>LOCAL PARA PAGAMENTO DO BOLETO</td><td>0</td></tr><tr><td>DataVencimento</td><td>datetime</td><td>DATA DO VENCIMENTO DO BOLETO</td><td>0</td></tr><tr><td>ValorVencimento</td><td>float</td><td>VALOR DO BOLETO</td><td>0</td></tr><tr><td>Parc_ini</td><td>int</td><td>PARCELA INICIAL</td><td>0</td></tr><tr><td>Parc_fin</td><td>int</td><td>PARCELA FINAL</td><td>0</td></tr><tr><td>DataPagamento</td><td>datetime</td><td>DATA DO PAGAMENTO, APÓS EFETIVADO</td><td>0</td></tr><tr><td>ValorPagamento</td><td>numeric</td><td>VALOR PARA PAGAMENTO DO BOLETO</td><td>0</td></tr><tr><td>DataDocumento</td><td>datetime</td><td>DATA DE DOCUMENTO ASSESSORIA</td><td>0</td></tr><tr><td>NumeroDocumento</td><td>varchar</td><td>DOCUMENTO ASSESSORIA</td><td>0</td></tr><tr><td>Especie</td><td>char</td><td>ESPÉCIE DA MOEDA</td><td>0</td></tr><tr><td>DataProcessamento</td><td>datetime</td><td>DATA EM QUE FOI PROCESSADO O PAGAMENTO</td><td>0</td></tr><tr><td>Instrucao1_Bol</td><td>varchar</td><td>INSTRUÇÃO DO BOLETO, 1ª LINHA</td><td>0</td></tr><tr><td>Instrucao2_Bol</td><td>varchar</td><td>INSTRUÇÃO DO BOLETO, 2ª LINHA</td><td>0</td></tr><tr><td>Instrucao3_Bol</td><td>varchar</td><td>INSTRUÇÃO DO BOLETO, 3ª LINHA</td><td>0</td></tr><tr><td>Instrucao4_Bol</td><td>varchar</td><td>INSTRUÇÃO DO BOLETO, 4ª LINHA</td><td>0</td></tr><tr><td>Instrucao5_Bol</td><td>varchar</td><td>INSTRUÇÃO DO BOLETO, 5ª LINHA</td><td>0</td></tr><tr><td>A4</td><td>bit</td><td>INDICA SE É IMPRESSO EM PAPEL A4</td><td>0</td></tr><tr><td>NossoN</td><td>bit</td><td>INDICA SE ESTÁ HABILITADO O NOSSO NÚMERO</td><td>0</td></tr><tr><td>ImpNossoNum</td><td>varchar</td><td>NOSSO NÚMERO IMPRESSO</td><td>0</td></tr><tr><td>IMPRESSO</td><td>bit</td><td>INDICA SE O BOLETO FOI IMPRESSO</td><td>0</td></tr><tr><td>COD_CARTA</td><td>int</td><td>CÓDIGO DA CARTA USADA NO BOLETO</td><td>0</td></tr><tr><td>CANCELADO_BOL</td><td>bit</td><td>INDICA SE O BOLETO FOI CANCELADO</td><td>0</td></tr><tr><td>COD_LOT</td><td>int</td><td>CÓDIGO DO LOTE DE BOLETOS</td><td>0</td></tr><tr><td>USUARIO_CAD</td><td>int</td><td>CÓDIGO DO USUÁRIO QUE EMITIU O BOLETO</td><td>0</td></tr><tr><td>tarifa_bol</td><td>numeric</td><td>VALOR DA TARIFA/TAXA</td><td>0</td></tr><tr><td>COD_CEDENTE</td><td>varchar</td><td>CÓDIGO DO CEDENTE</td><td>0</td></tr><tr><td>DATA_UP</td><td>datetime</td><td>DATA DA ÚLTIMA ALTERAÇÃO</td><td>0</td></tr><tr><td>COD_LOTE_EXP</td><td>int</td><td>CÓDIGO DO LOTE DE EXPORTAÇÃO</td><td>0</td></tr><tr><td>DT_CANC_BOL</td><td>datetime</td><td>DATA DE CANCELAMENTO DO BOLETO</td><td>0</td></tr><tr><td>COD_BOLTP</td><td>int</td><td>CÓDIGO DO TIPO DE ENVIO</td><td>0</td></tr><tr><td>DESTINATARIO</td><td>varchar</td><td>DESTINATARIO PARA ENVIO POR EMAIL</td><td>0</td></tr><tr><td>DATA_ENVIO</td><td>datetime</td><td>DATA DE ENVIO DO BOLETO</td><td>0</td></tr><tr><td>FILIAL</td><td>int</td><td>CÓDIGO DA UNIDADE DE COBRANÇA</td><td>0</td></tr><tr><td>COD_STAT</td><td>int</td><td>CÓDIGO DO STATUS DO BOLETO</td><td>0</td></tr><tr><td>DATA_AGENDAMENTO_ENVIO</td><td>datetime</td><td>DATA PARA AGENDAMENTO DE ENVIO DE BOLETO</td><td>0</td></tr><tr><td>STATUS_ENVIO</td><td>varchar</td><td>STATUS DO ENVIO DO BOLETO</td><td>0</td></tr><tr><td>COD_IMP</td><td>int</td><td>CÓDIGO DA IMPORTAÇÃO, QUANDO O BOLETO É ENVIADO PELO CREDOR</td><td>0</td></tr><tr><td>For_Nome</td><td>varchar</td><td>NOME DO FORNECEDOR</td><td>0</td></tr><tr><td>For_CPFCNPJ</td><td>varchar</td><td>CPF/CNPJ DO FORNECEDOR</td><td>0</td></tr><tr><td>For_Endereco</td><td>varchar</td><td>ENDEREÇO DO FORNECEDOR</td><td>0</td></tr><tr><td>For_Cidade</td><td>varchar</td><td>CIDADE DO FORNECEDOR</td><td>0</td></tr><tr><td>For_UF</td><td>varchar</td><td>ESTADO DO FORNECEDOR</td><td>0</td></tr><tr><td>For_CEP</td><td>varchar</td><td>CEP DO FORNECEDOR</td><td>0</td></tr><tr><td>CONTROLE_BEM</td><td>varchar</td><td></td><td>0</td></tr><tr><td>For_Bairro</td><td>varchar</td><td>BAIRRO DO FORNECEDOR</td><td>0</td></tr><tr><td>For_Fone1</td><td>varchar</td><td>TELFONE DO FORNECEDOR</td><td>0</td></tr><tr><td>For_Infoad</td><td>varchar</td><td>INFORMAÇÕES ADICIONAIS DO FORNECEDOR</td><td>0</td></tr><tr><td>Nro_Prorrogacoes</td><td>int</td><td>NÚMERO DE PRORROGAÇÕES DO BOLETO</td><td>0</td></tr><tr><td>SubTipoEvio</td><td>int</td><td>ND</td><td>0</td></tr><tr><td>For_Email</td><td>varchar</td><td>EMAIL DO FORNECEDOR</td><td>0</td></tr><tr><td>DATAVENCIMENTO_ORIGINAL</td><td>datetime</td><td>DATA DE VENCIMENTO ORIGINAL</td><td>0</td></tr><tr><td>BOL_TAXA_DESP</td><td>bit</td><td>INDICA SE É BOLETO APENAS COM TAXA OU DESPESA</td><td>0</td></tr><tr><td>INSTRUCAO6_BOL</td><td>char</td><td>INSTRUÇÃO DO BOLETO, 6ª LINHA</td><td>0</td></tr><tr><td>INSTRUCAO7_BOL</td><td>char</td><td>INSTRUÇÃO DO BOLETO, 7ª LINHA</td><td>0</td></tr><tr><td>INSTRUCAO8_BOL</td><td>char</td><td>INSTRUÇÃO DO BOLETO, 8ª LINHA</td><td>0</td></tr><tr><td>INSTRUCAO9_BOL</td><td>char</td><td>INSTRUÇÃO DO BOLETO, 9ª LINHA</td><td>0</td></tr><tr><td>DT_ULT_ENVIO</td><td>datetime</td><td>DATA DO ÚLTIMO ENVIO DO BOLETO</td><td>0</td></tr><tr><td>COD_HIST_CLI</td><td>int</td><td>NULL</td><td>0</td></tr><tr><td>BOL_SOMENTE_TAXA</td><td>bit</td><td>NULL</td><td>0</td></tr><tr><td>SistemaOrigem</td><td>int</td><td>NULL</td><td>0</td></tr><tr><td>REGISTRO</td><td>int</td><td>NULL</td><td>0</td></tr><tr><td>REGISTRO_STATUS</td><td>int</td><td>NULL</td><td>0</td></tr><tr><td>USUARIO_AUTORIZACAO</td><td>varchar</td><td>NULL</td><td>0</td></tr><tr><td>DigitoBanco</td><td>char</td><td>NULL</td><td>0</td></tr><tr><td>DEBITO_CONTA</td><td>bit</td><td>NULL</td><td>0</td></tr><tr><td>PAGAMENTO_CARTAO</td><td>bit</td><td>NULL</td><td>0</td></tr><tr><td>USUARIO_CANC</td><td>int</td><td>NULL</td><td>0</td></tr><tr><td>CALC_PARCIAL_VCSERVICOS</td><td>bit</td><td>NULL</td><td>0</td></tr></table>"
                    },
                    "metadata": {}
                }
            ],
            "execution_count": 53
        },
        {
            "cell_type": "code",
            "source": [
                "WITH PESSOAS_FONE AS (\r\n",
                "    SELECT DISTINCT\r\n",
                "        COD_PES AS CODIGO\r\n",
                "    FROM PESSOAS_TELEFONES WITH (NOLOCK)\r\n",
                ") \r\n",
                "\r\n",
                "SELECT\r\n",
                "    B.DataProcessamento AS DATA,\r\n",
                "    230 AS COD_CRM,\r\n",
                "    NULL AS ID_ACORDO,\r\n",
                "    PE.CPFCGC_PES AS ID_KEY,\r\n",
                "    VF.NOME_FUNC AS USUARIO_ACORDO,\r\n",
                "    B.DataVencimento AS DATA_VENCIMENTO_ORIGINAL,\r\n",
                "    B.DataVencimento AS DATA_VENCIMENTO_ATUAL,\r\n",
                "    CASE \r\n",
                "        WHEN TC.VR_ENTRADA <> 0 THEN TC.QTD_PARC + 1 \r\n",
                "        ELSE TC.QTD_PARC \r\n",
                "    END AS QTD_PRESTACAO,\r\n",
                "    B.ValorVencimento AS VALOR_ACORDO\r\n",
                "FROM BOLETOS_EM B WITH (NOLOCK)\r\n",
                "INNER JOIN BOLETOS_CALC BC ON BC.COD_BEM = B.Cod_BEm\r\n",
                "INNER JOIN TITULOS_CALCULO TC ON TC.COD_TIT_CALC = BC.COD_TIT_CALC\r\n",
                "INNER JOIN V_FUNCIONARIOS VF ON B.USUARIO_CAD = VF.COD_FUNC\r\n",
                "INNER JOIN PESSOAS PE ON PE.COD_PES = (\r\n",
                "    SELECT DISTINCT\r\n",
                "        PESSOAS_FONE.CODIGO\r\n",
                "    FROM PESSOAS_FONE\r\n",
                "    WHERE PESSOAS_FONE.CODIGO = PE.COD_PES\r\n",
                ")\r\n",
                "\r\n",
                "WHERE CAST(B.DataProcessamento AS DATE) = CAST(GETDATE() AS DATE);\r\n",
                "\r\n",
                "--WHERE B.DataProcessamento IS NOT NULL;\r\n",
                ""
            ],
            "metadata": {
                "azdata_cell_guid": "8829a5df-e060-4c38-890d-5a24dc3ffed0",
                "language": "sql"
            },
            "outputs": [
                {
                    "output_type": "display_data",
                    "data": {
                        "text/html": "Total execution time: 00:00:00"
                    },
                    "metadata": {}
                }
            ],
            "execution_count": 88
        },
        {
            "cell_type": "code",
            "source": [
                "WITH PESSOAS_FONE AS (\r\n",
                "    SELECT DISTINCT\r\n",
                "        COD_PES AS CODIGO\r\n",
                "    FROM PESSOAS_TELEFONES WITH (NOLOCK)\r\n",
                ") \r\n",
                "\r\n",
                "SELECT DISTINCT top 10\r\n",
                "    DATEPART(HOUR, B.DataProcessamento) AS HORA,\r\n",
                "    B.ValorVencimento,\r\n",
                "    MAX(B.DataProcessamento) AS DATA,\r\n",
                "    230 AS COD_CRM,\r\n",
                "    NULL AS ID_ACORDO\r\n",
                "FROM BOLETOS_EM B WITH (NOLOCK)\r\n",
                "INNER JOIN BOLETOS_CALC BC ON BC.COD_BEM = B.Cod_BEm\r\n",
                "INNER JOIN TITULOS_CALCULO TC ON TC.COD_TIT_CALC = BC.COD_TIT_CALC\r\n",
                "INNER JOIN V_FUNCIONARIOS VF ON B.USUARIO_CAD = VF.COD_FUNC\r\n",
                "INNER JOIN PESSOAS PE ON PE.COD_PES = (\r\n",
                "    SELECT DISTINCT\r\n",
                "        PESSOAS_FONE.CODIGO\r\n",
                "    FROM PESSOAS_FONE\r\n",
                "    WHERE PESSOAS_FONE.CODIGO = PE.COD_PES\r\n",
                ")\r\n",
                "GROUP BY DATEPART(HOUR, B.DataProcessamento), B.ValorVencimento, PE.CPFCGC_PES, VF.NOME_FUNC\r\n",
                "ORDER BY MAX(B.DataProcessamento) DESC;\r\n",
                ""
            ],
            "metadata": {
                "azdata_cell_guid": "518d529b-d50d-4b25-9f10-c3b36f4db576",
                "language": "sql",
                "tags": []
            },
            "outputs": [
                {
                    "output_type": "display_data",
                    "data": {
                        "text/html": "Total execution time: 00:00:00"
                    },
                    "metadata": {}
                }
            ],
            "execution_count": 87
        },
        {
            "cell_type": "code",
            "source": [
                "SELECT TOP 10 R.DT_PGTO_REC AS DATA\r\n",
                "\t,230 AS COD_CRM\r\n",
                "\t,T.CONTRATO_TIT AS ID_ACORDO\r\n",
                "\t,VD.CPFCGC_PES AS ID_KEY\r\n",
                "\t,VF.NOME_FUNC AS USUARIO_PAGAMENTO\r\n",
                "\t,VF.NOME_FUNC AS OPERADOR\r\n",
                "\t,R.FORMA_PG_REC AS TIPO_PAGAMENTO\r\n",
                "\t,VPGTO.DES_PGTO AS TIPO_PAGAMENTO_NOME\r\n",
                "\t,R.VALOR_RECEBIDO_REC AS VALOR_PAGAMENTO\r\n",
                "\t,'52.179.19.141' AS INSTANCIA\r\n",
                "\t,'MF_cobsystems' AS BANCO\r\n",
                "\t,'VCOM' AS ORIGEM\r\n",
                "FROM TITULOS T WITH (NOLOCK)\r\n",
                "INNER JOIN RECEBIMENTOS R ON R.COD_TIT = T.COD_TIT\r\n",
                "LEFT JOIN v_devedores VD ON T.COD_DEV = VD.COD_DEV\r\n",
                "LEFT JOIN V_FUNCIONARIOS VF ON R.USUARIO_CAD = VF.COD_FUNC\r\n",
                "LEFT JOIN V_FORMA_PGTO VPGTO ON VPGTO.COD_PGTO = R.FORMA_PG_REC\r\n",
                "ORDER BY 1 DESC"
            ],
            "metadata": {
                "azdata_cell_guid": "41d8377a-72b5-4be9-93c2-583694b35a52",
                "language": "sql",
                "tags": []
            },
            "outputs": [
                {
                    "output_type": "display_data",
                    "data": {
                        "text/html": "(10 rows affected)"
                    },
                    "metadata": {}
                },
                {
                    "output_type": "display_data",
                    "data": {
                        "text/html": "Total execution time: 00:00:05.281"
                    },
                    "metadata": {}
                },
                {
                    "output_type": "execute_result",
                    "execution_count": 50,
                    "data": {
                        "application/vnd.dataresource+json": {
                            "schema": {
                                "fields": [
                                    {
                                        "name": "DATA"
                                    },
                                    {
                                        "name": "COD_CRM"
                                    },
                                    {
                                        "name": "ID_ACORDO"
                                    },
                                    {
                                        "name": "ID_KEY"
                                    },
                                    {
                                        "name": "USUARIO_PAGAMENTO"
                                    },
                                    {
                                        "name": "OPERADOR"
                                    },
                                    {
                                        "name": "TIPO_PAGAMENTO"
                                    },
                                    {
                                        "name": "TIPO_PAGAMENTO_NOME"
                                    },
                                    {
                                        "name": "VALOR_PAGAMENTO"
                                    },
                                    {
                                        "name": "INSTANCIA"
                                    },
                                    {
                                        "name": "BANCO"
                                    },
                                    {
                                        "name": "ORIGEM"
                                    }
                                ]
                            },
                            "data": [
                                {
                                    "DATA": "2024-07-24 00:00:00",
                                    "COD_CRM": "230",
                                    "ID_ACORDO": "1.83003976              ",
                                    "ID_KEY": "07033428944         ",
                                    "USUARIO_PAGAMENTO": "Leticia costa",
                                    "OPERADOR": "Leticia costa",
                                    "TIPO_PAGAMENTO": "6",
                                    "TIPO_PAGAMENTO_NOME": "Boleto",
                                    "VALOR_PAGAMENTO": "58,21",
                                    "INSTANCIA": "52.179.19.141",
                                    "BANCO": "MF_cobsystems",
                                    "ORIGEM": "VCOM"
                                },
                                {
                                    "DATA": "2024-07-24 00:00:00",
                                    "COD_CRM": "230",
                                    "ID_ACORDO": "1.322470847             ",
                                    "ID_KEY": "06667208947         ",
                                    "USUARIO_PAGAMENTO": "Leticia costa",
                                    "OPERADOR": "Leticia costa",
                                    "TIPO_PAGAMENTO": "6",
                                    "TIPO_PAGAMENTO_NOME": "Boleto",
                                    "VALOR_PAGAMENTO": "142,24",
                                    "INSTANCIA": "52.179.19.141",
                                    "BANCO": "MF_cobsystems",
                                    "ORIGEM": "VCOM"
                                },
                                {
                                    "DATA": "2024-07-24 00:00:00",
                                    "COD_CRM": "230",
                                    "ID_ACORDO": "1.71746182              ",
                                    "ID_KEY": "07035049916         ",
                                    "USUARIO_PAGAMENTO": "Leticia costa",
                                    "OPERADOR": "Leticia costa",
                                    "TIPO_PAGAMENTO": "6",
                                    "TIPO_PAGAMENTO_NOME": "Boleto",
                                    "VALOR_PAGAMENTO": "56,17",
                                    "INSTANCIA": "52.179.19.141",
                                    "BANCO": "MF_cobsystems",
                                    "ORIGEM": "VCOM"
                                },
                                {
                                    "DATA": "2024-07-24 00:00:00",
                                    "COD_CRM": "230",
                                    "ID_ACORDO": "1.324815725             ",
                                    "ID_KEY": "06678345592         ",
                                    "USUARIO_PAGAMENTO": "Leticia costa",
                                    "OPERADOR": "Leticia costa",
                                    "TIPO_PAGAMENTO": "6",
                                    "TIPO_PAGAMENTO_NOME": "Boleto",
                                    "VALOR_PAGAMENTO": "92,98",
                                    "INSTANCIA": "52.179.19.141",
                                    "BANCO": "MF_cobsystems",
                                    "ORIGEM": "VCOM"
                                },
                                {
                                    "DATA": "2024-07-24 00:00:00",
                                    "COD_CRM": "230",
                                    "ID_ACORDO": "1.53502066              ",
                                    "ID_KEY": "07036211814         ",
                                    "USUARIO_PAGAMENTO": "Leticia costa",
                                    "OPERADOR": "Leticia costa",
                                    "TIPO_PAGAMENTO": "6",
                                    "TIPO_PAGAMENTO_NOME": "Boleto",
                                    "VALOR_PAGAMENTO": "278,03",
                                    "INSTANCIA": "52.179.19.141",
                                    "BANCO": "MF_cobsystems",
                                    "ORIGEM": "VCOM"
                                },
                                {
                                    "DATA": "2024-07-24 00:00:00",
                                    "COD_CRM": "230",
                                    "ID_ACORDO": "1.323218223             ",
                                    "ID_KEY": "06726328613         ",
                                    "USUARIO_PAGAMENTO": "Leticia costa",
                                    "OPERADOR": "Leticia costa",
                                    "TIPO_PAGAMENTO": "6",
                                    "TIPO_PAGAMENTO_NOME": "Boleto",
                                    "VALOR_PAGAMENTO": "127,36",
                                    "INSTANCIA": "52.179.19.141",
                                    "BANCO": "MF_cobsystems",
                                    "ORIGEM": "VCOM"
                                },
                                {
                                    "DATA": "2024-07-24 00:00:00",
                                    "COD_CRM": "230",
                                    "ID_ACORDO": "1.327521180             ",
                                    "ID_KEY": "07036478900         ",
                                    "USUARIO_PAGAMENTO": "Leticia costa",
                                    "OPERADOR": "Leticia costa",
                                    "TIPO_PAGAMENTO": "6",
                                    "TIPO_PAGAMENTO_NOME": "Boleto",
                                    "VALOR_PAGAMENTO": "29,99",
                                    "INSTANCIA": "52.179.19.141",
                                    "BANCO": "MF_cobsystems",
                                    "ORIGEM": "VCOM"
                                },
                                {
                                    "DATA": "2024-07-24 00:00:00",
                                    "COD_CRM": "230",
                                    "ID_ACORDO": "1.323521449             ",
                                    "ID_KEY": "06732009494         ",
                                    "USUARIO_PAGAMENTO": "Leticia costa",
                                    "OPERADOR": "Leticia costa",
                                    "TIPO_PAGAMENTO": "6",
                                    "TIPO_PAGAMENTO_NOME": "Boleto",
                                    "VALOR_PAGAMENTO": "135,09",
                                    "INSTANCIA": "52.179.19.141",
                                    "BANCO": "MF_cobsystems",
                                    "ORIGEM": "VCOM"
                                },
                                {
                                    "DATA": "2024-07-24 00:00:00",
                                    "COD_CRM": "230",
                                    "ID_ACORDO": "1.35163231              ",
                                    "ID_KEY": "07036772417         ",
                                    "USUARIO_PAGAMENTO": "Leticia costa",
                                    "OPERADOR": "Leticia costa",
                                    "TIPO_PAGAMENTO": "6",
                                    "TIPO_PAGAMENTO_NOME": "Boleto",
                                    "VALOR_PAGAMENTO": "43,97",
                                    "INSTANCIA": "52.179.19.141",
                                    "BANCO": "MF_cobsystems",
                                    "ORIGEM": "VCOM"
                                },
                                {
                                    "DATA": "2024-07-24 00:00:00",
                                    "COD_CRM": "230",
                                    "ID_ACORDO": "1.83764890              ",
                                    "ID_KEY": "06760889452         ",
                                    "USUARIO_PAGAMENTO": "Leticia costa",
                                    "OPERADOR": "Leticia costa",
                                    "TIPO_PAGAMENTO": "6",
                                    "TIPO_PAGAMENTO_NOME": "Boleto",
                                    "VALOR_PAGAMENTO": "83,37",
                                    "INSTANCIA": "52.179.19.141",
                                    "BANCO": "MF_cobsystems",
                                    "ORIGEM": "VCOM"
                                }
                            ]
                        },
                        "text/html": "<table><tr><th>DATA</th><th>COD_CRM</th><th>ID_ACORDO</th><th>ID_KEY</th><th>USUARIO_PAGAMENTO</th><th>OPERADOR</th><th>TIPO_PAGAMENTO</th><th>TIPO_PAGAMENTO_NOME</th><th>VALOR_PAGAMENTO</th><th>INSTANCIA</th><th>BANCO</th><th>ORIGEM</th></tr><tr><td>2024-07-24 00:00:00</td><td>230</td><td>1.83003976              </td><td>07033428944         </td><td>Leticia costa</td><td>Leticia costa</td><td>6</td><td>Boleto</td><td>58,21</td><td>52.179.19.141</td><td>MF_cobsystems</td><td>VCOM</td></tr><tr><td>2024-07-24 00:00:00</td><td>230</td><td>1.322470847             </td><td>06667208947         </td><td>Leticia costa</td><td>Leticia costa</td><td>6</td><td>Boleto</td><td>142,24</td><td>52.179.19.141</td><td>MF_cobsystems</td><td>VCOM</td></tr><tr><td>2024-07-24 00:00:00</td><td>230</td><td>1.71746182              </td><td>07035049916         </td><td>Leticia costa</td><td>Leticia costa</td><td>6</td><td>Boleto</td><td>56,17</td><td>52.179.19.141</td><td>MF_cobsystems</td><td>VCOM</td></tr><tr><td>2024-07-24 00:00:00</td><td>230</td><td>1.324815725             </td><td>06678345592         </td><td>Leticia costa</td><td>Leticia costa</td><td>6</td><td>Boleto</td><td>92,98</td><td>52.179.19.141</td><td>MF_cobsystems</td><td>VCOM</td></tr><tr><td>2024-07-24 00:00:00</td><td>230</td><td>1.53502066              </td><td>07036211814         </td><td>Leticia costa</td><td>Leticia costa</td><td>6</td><td>Boleto</td><td>278,03</td><td>52.179.19.141</td><td>MF_cobsystems</td><td>VCOM</td></tr><tr><td>2024-07-24 00:00:00</td><td>230</td><td>1.323218223             </td><td>06726328613         </td><td>Leticia costa</td><td>Leticia costa</td><td>6</td><td>Boleto</td><td>127,36</td><td>52.179.19.141</td><td>MF_cobsystems</td><td>VCOM</td></tr><tr><td>2024-07-24 00:00:00</td><td>230</td><td>1.327521180             </td><td>07036478900         </td><td>Leticia costa</td><td>Leticia costa</td><td>6</td><td>Boleto</td><td>29,99</td><td>52.179.19.141</td><td>MF_cobsystems</td><td>VCOM</td></tr><tr><td>2024-07-24 00:00:00</td><td>230</td><td>1.323521449             </td><td>06732009494         </td><td>Leticia costa</td><td>Leticia costa</td><td>6</td><td>Boleto</td><td>135,09</td><td>52.179.19.141</td><td>MF_cobsystems</td><td>VCOM</td></tr><tr><td>2024-07-24 00:00:00</td><td>230</td><td>1.35163231              </td><td>07036772417         </td><td>Leticia costa</td><td>Leticia costa</td><td>6</td><td>Boleto</td><td>43,97</td><td>52.179.19.141</td><td>MF_cobsystems</td><td>VCOM</td></tr><tr><td>2024-07-24 00:00:00</td><td>230</td><td>1.83764890              </td><td>06760889452         </td><td>Leticia costa</td><td>Leticia costa</td><td>6</td><td>Boleto</td><td>83,37</td><td>52.179.19.141</td><td>MF_cobsystems</td><td>VCOM</td></tr></table>"
                    },
                    "metadata": {}
                }
            ],
            "execution_count": 50
        },
        {
            "cell_type": "code",
            "source": [
                "WITH RankedData AS (\r\n",
                "    SELECT \r\n",
                "        P.COD_TIT,\r\n",
                "        A.CUSTOMER_ID,\r\n",
                "        A.CRITERIO_CYBER,\r\n",
                "        A.NUMERO_DOCUMENTO_CLIENTE,\r\n",
                "        A.CODIGO_CLIENTE,\r\n",
                "        A.DATA_ATIVACAO_CLIENTE,\r\n",
                "        A.TIPO_PRODUTO,\r\n",
                "        P.NUMERO_PARC,\r\n",
                "        P.VR_ORIG_PARC,\r\n",
                "        A.NUMERO_FATURA,\r\n",
                "        ROW_NUMBER() OVER (PARTITION BY P.COD_TIT ORDER BY A.DATA_VENCIMENTO DESC) AS rn\r\n",
                "    FROM PARCELAS P WITH (NOLOCK)\r\n",
                "    INNER JOIN AUX_TIM_CYBER A WITH (NOLOCK) ON A.COD_PARC = P.COD_PARC\r\n",
                "    WHERE P.DEVOLVIDO_PARC = '0'\r\n",
                ")\r\n",
                "SELECT TOP 10 \r\n",
                "  CAST(GETDATE() AS DATE) AS DATA,\r\n",
                "  230 AS ID_CRM, \r\n",
                "  CONCAT(D.CPFCGC_PES, A.CODIGO_CLIENTE) AS ID_CLI,\r\n",
                "  D.CPFCGC_PES AS CPF,\r\n",
                "  A.CODIGO_CLIENTE AS DEVEDOR_ID,\r\n",
                "  T.COD_DEV AS IDENTIFICADOR_ID,\r\n",
                "  NULL AS TITULO_ID,\r\n",
                "  T.CONTRATO_TIT AS CONTRATO_ID,\r\n",
                "  A.NUMERO_DOCUMENTO_CLIENTE AS DOCUMENTO_ID,\r\n",
                "  PE.NOME_PES AS NOME,\r\n",
                "  CV.UF AS UF,\r\n",
                "  CV.CIDADE AS CIDADE,\r\n",
                "  PE.BAIRRO_PES AS BAIRRO,\r\n",
                "  PE.CEP_PES AS CEP,\r\n",
                "  PE.SEXO_PES AS SEXO,\r\n",
                "  PE.DT_NASC AS DATA_NASCIMENTO,\r\n",
                "  NULL AS TIPO_TITULO,\r\n",
                "  A.CRITERIO_CYBER AS SEGMENTO,\r\n",
                "  A.NUMERO_FATURA AS NUMERO_PRESTACAO,\r\n",
                "  NULL AS QTD_PRESTACAO,\r\n",
                "  NULL AS NUMERO_BANCO,\r\n",
                "  NULL AS SETOR,\r\n",
                "  SP.TOTAL AS VALOR,\r\n",
                "  A.VR_ORIG_PARC AS VALOR_ORIGINAL,\r\n",
                "  NULL AS LOTE,\r\n",
                "  SP.MENOR_VCTO AS DATA_VENCIMENTO,\r\n",
                "  NULL AS DATA_VENCIMENTO_ORIGINAL,\r\n",
                "  I.DATA_IMP AS DATA_IMPORTACAO,\r\n",
                "  NULL AS OBSE,\r\n",
                "  NULL AS DATA_DEVOLUCAO,\r\n",
                "  A.DATA_ATIVACAO_CLIENTE AS DATA_INCLUSAO,\r\n",
                "  I.DATA_IMP AS DATA_ALTERACAO,\r\n",
                "  NULL AS USUARIO_INCLUSAO,\r\n",
                "  NULL AS USUARIO_ALTERACAO,\r\n",
                "  NULL AS IMP_ID,\r\n",
                "  NULL AS ACORDO_ID,\r\n",
                "  A.TIPO_PRODUTO,\r\n",
                "  '52.179.19.141' AS INSTANCIA,\r\n",
                "  'MF_cobsystems' AS BANCO,\r\n",
                "  'VCOM' AS ORIGEM\r\n",
                "FROM TITULOS T WITH (NOLOCK)\r\n",
                "INNER JOIN _SOMA_PARC SP WITH (NOLOCK) ON SP.COD_TIT = T.COD_TIT\r\n",
                "INNER JOIN v_devedores D WITH (NOLOCK) ON T.COD_DEV = D.COD_DEV\r\n",
                "INNER JOIN RankedData A ON A.COD_TIT = T.COD_TIT AND A.rn = 1  --FILTRANDO CTE\r\n",
                "INNER JOIN (\r\n",
                "  SELECT \r\n",
                "    H.COD_TIT,\r\n",
                "    MAX(I.DATA_IMP) AS DATA_IMP\r\n",
                "  FROM IMPORTACAO_HISTORICO H WITH (NOLOCK)\r\n",
                "  INNER JOIN IMPORTACAO I WITH (NOLOCK) ON I.COD_IMP = H.COD_IMP\r\n",
                "  WHERE H.COD_SITUACAO IN (1, 3, 4)\r\n",
                "  GROUP BY H.COD_TIT\r\n",
                ") I ON I.COD_TIT = T.COD_TIT\r\n",
                "LEFT JOIN PESSOAS PE WITH (NOLOCK) ON D.COD_PES = PE.COD_PES\r\n",
                "LEFT JOIN CV_PESSOAS_ENDERECOS CV WITH (NOLOCK) ON D.COD_PES = CV.COD_PES\r\n",
                "WHERE CV.COD_STATE = 2;\r\n",
                ""
            ],
            "metadata": {
                "azdata_cell_guid": "b08b3ba6-abb3-4ef4-9c54-fd68259461fb",
                "language": "sql",
                "tags": []
            },
            "outputs": [
                {
                    "output_type": "display_data",
                    "data": {
                        "text/html": "(10 rows affected)"
                    },
                    "metadata": {}
                },
                {
                    "output_type": "display_data",
                    "data": {
                        "text/html": "Total execution time: 00:04:30.947"
                    },
                    "metadata": {}
                },
                {
                    "output_type": "execute_result",
                    "execution_count": 26,
                    "data": {
                        "application/vnd.dataresource+json": {
                            "schema": {
                                "fields": [
                                    {
                                        "name": "DATA"
                                    },
                                    {
                                        "name": "ID_CRM"
                                    },
                                    {
                                        "name": "ID_CLI"
                                    },
                                    {
                                        "name": "CPF"
                                    },
                                    {
                                        "name": "DEVEDOR_ID"
                                    },
                                    {
                                        "name": "IDENTIFICADOR_ID"
                                    },
                                    {
                                        "name": "TITULO_ID"
                                    },
                                    {
                                        "name": "CONTRATO_ID"
                                    },
                                    {
                                        "name": "DOCUMENTO_ID"
                                    },
                                    {
                                        "name": "NOME"
                                    },
                                    {
                                        "name": "UF"
                                    },
                                    {
                                        "name": "CIDADE"
                                    },
                                    {
                                        "name": "BAIRRO"
                                    },
                                    {
                                        "name": "CEP"
                                    },
                                    {
                                        "name": "SEXO"
                                    },
                                    {
                                        "name": "DATA_NASCIMENTO"
                                    },
                                    {
                                        "name": "TIPO_TITULO"
                                    },
                                    {
                                        "name": "SEGMENTO"
                                    },
                                    {
                                        "name": "NUMERO_PRESTACAO"
                                    },
                                    {
                                        "name": "QTD_PRESTACAO"
                                    },
                                    {
                                        "name": "NUMERO_BANCO"
                                    },
                                    {
                                        "name": "SETOR"
                                    },
                                    {
                                        "name": "VALOR"
                                    },
                                    {
                                        "name": "VALOR_ORIGINAL"
                                    },
                                    {
                                        "name": "LOTE"
                                    },
                                    {
                                        "name": "DATA_VENCIMENTO"
                                    },
                                    {
                                        "name": "DATA_VENCIMENTO_ORIGINAL"
                                    },
                                    {
                                        "name": "DATA_IMPORTACAO"
                                    },
                                    {
                                        "name": "OBSE"
                                    },
                                    {
                                        "name": "DATA_DEVOLUCAO"
                                    },
                                    {
                                        "name": "DATA_INCLUSAO"
                                    },
                                    {
                                        "name": "DATA_ALTERACAO"
                                    },
                                    {
                                        "name": "USUARIO_INCLUSAO"
                                    },
                                    {
                                        "name": "USUARIO_ALTERACAO"
                                    },
                                    {
                                        "name": "IMP_ID"
                                    },
                                    {
                                        "name": "ACORDO_ID"
                                    },
                                    {
                                        "name": "TIPO_PRODUTO"
                                    },
                                    {
                                        "name": "INSTANCIA"
                                    },
                                    {
                                        "name": "BANCO"
                                    },
                                    {
                                        "name": "ORIGEM"
                                    }
                                ]
                            },
                            "data": [
                                {
                                    "DATA": "2024-07-26",
                                    "ID_CRM": "230",
                                    "ID_CLI": "06403251902         1.77476056              ",
                                    "CPF": "06403251902         ",
                                    "DEVEDOR_ID": "1.77476056              ",
                                    "IDENTIFICADOR_ID": "133612",
                                    "TITULO_ID": "NULL",
                                    "CONTRATO_ID": "1.77476056              ",
                                    "DOCUMENTO_ID": "49773364                                                    ",
                                    "NOME": "RICARDO JOSE WANDRESSEN GONÇALVES      ",
                                    "UF": "SC",
                                    "CIDADE": "TUBARAO                                                                                                                 ",
                                    "BAIRRO": "OFICINAS                                ",
                                    "CEP": "88702100",
                                    "SEXO": "NULL",
                                    "DATA_NASCIMENTO": "NULL",
                                    "TIPO_TITULO": "NULL",
                                    "SEGMENTO": "CCT1",
                                    "NUMERO_PRESTACAO": "RMCA00000000005216734977 ",
                                    "QTD_PRESTACAO": "NULL",
                                    "NUMERO_BANCO": "NULL",
                                    "SETOR": "NULL",
                                    "VALOR": "83,23",
                                    "VALOR_ORIGINAL": "83,23",
                                    "LOTE": "NULL",
                                    "DATA_VENCIMENTO": "2024-06-10 00:00:00.000",
                                    "DATA_VENCIMENTO_ORIGINAL": "NULL",
                                    "DATA_IMPORTACAO": "2024-07-13 22:53:55.550",
                                    "OBSE": "NULL",
                                    "DATA_DEVOLUCAO": "NULL",
                                    "DATA_INCLUSAO": "2019-05-01",
                                    "DATA_ALTERACAO": "2024-07-13 22:53:55.550",
                                    "USUARIO_INCLUSAO": "NULL",
                                    "USUARIO_ALTERACAO": "NULL",
                                    "IMP_ID": "NULL",
                                    "ACORDO_ID": "NULL",
                                    "TIPO_PRODUTO": "T1",
                                    "INSTANCIA": "52.179.19.141",
                                    "BANCO": "MF_cobsystems",
                                    "ORIGEM": "VCOM"
                                },
                                {
                                    "DATA": "2024-07-26",
                                    "ID_CRM": "230",
                                    "ID_CLI": "22845763204         1.21476361              ",
                                    "CPF": "22845763204         ",
                                    "DEVEDOR_ID": "1.21476361              ",
                                    "IDENTIFICADOR_ID": "120029",
                                    "TITULO_ID": "NULL",
                                    "CONTRATO_ID": "1.21476361              ",
                                    "DOCUMENTO_ID": "708735437                                                   ",
                                    "NOME": "DIONISIO TADEU RODRIGUES RIBEIRO       ",
                                    "UF": "PA",
                                    "CIDADE": "BELEM                                                                                                                   ",
                                    "BAIRRO": "JURUNAS                                 ",
                                    "CEP": "66033640",
                                    "SEXO": "NULL",
                                    "DATA_NASCIMENTO": "NULL",
                                    "TIPO_TITULO": "NULL",
                                    "SEGMENTO": "CCPP",
                                    "NUMERO_PRESTACAO": "RMCA00000000005252994817 ",
                                    "QTD_PRESTACAO": "NULL",
                                    "NUMERO_BANCO": "NULL",
                                    "SETOR": "NULL",
                                    "VALOR": "259,76",
                                    "VALOR_ORIGINAL": "84,99",
                                    "LOTE": "NULL",
                                    "DATA_VENCIMENTO": "2024-06-07 00:00:00.000",
                                    "DATA_VENCIMENTO_ORIGINAL": "NULL",
                                    "DATA_IMPORTACAO": "2024-07-23 02:00:44.030",
                                    "OBSE": "NULL",
                                    "DATA_DEVOLUCAO": "NULL",
                                    "DATA_INCLUSAO": "2010-04-18",
                                    "DATA_ALTERACAO": "2024-07-23 02:00:44.030",
                                    "USUARIO_INCLUSAO": "NULL",
                                    "USUARIO_ALTERACAO": "NULL",
                                    "IMP_ID": "NULL",
                                    "ACORDO_ID": "NULL",
                                    "TIPO_PRODUTO": "PP",
                                    "INSTANCIA": "52.179.19.141",
                                    "BANCO": "MF_cobsystems",
                                    "ORIGEM": "VCOM"
                                },
                                {
                                    "DATA": "2024-07-26",
                                    "ID_CRM": "230",
                                    "ID_CLI": "91885159404         1.54736921              ",
                                    "CPF": "91885159404         ",
                                    "DEVEDOR_ID": "1.54736921              ",
                                    "IDENTIFICADOR_ID": "104117",
                                    "TITULO_ID": "NULL",
                                    "CONTRATO_ID": "1.54736921              ",
                                    "DOCUMENTO_ID": "NULL",
                                    "NOME": "GILVANIA RODRIGUES DE FRANÇA           ",
                                    "UF": "PE",
                                    "CIDADE": "RECIFE                                                                                                                  ",
                                    "BAIRRO": "VARZEA                                  ",
                                    "CEP": "50960450",
                                    "SEXO": "NULL",
                                    "DATA_NASCIMENTO": "NULL",
                                    "TIPO_TITULO": "NULL",
                                    "SEGMENTO": "CLCT",
                                    "NUMERO_PRESTACAO": "RMCA00000000005173332059 ",
                                    "QTD_PRESTACAO": "NULL",
                                    "NUMERO_BANCO": "NULL",
                                    "SETOR": "NULL",
                                    "VALOR": "14,18",
                                    "VALOR_ORIGINAL": "14,18",
                                    "LOTE": "NULL",
                                    "DATA_VENCIMENTO": "2024-04-10 00:00:00.000",
                                    "DATA_VENCIMENTO_ORIGINAL": "NULL",
                                    "DATA_IMPORTACAO": "2024-07-13 22:53:55.550",
                                    "OBSE": "NULL",
                                    "DATA_DEVOLUCAO": "NULL",
                                    "DATA_INCLUSAO": "2016-10-07",
                                    "DATA_ALTERACAO": "2024-07-13 22:53:55.550",
                                    "USUARIO_INCLUSAO": "NULL",
                                    "USUARIO_ALTERACAO": "NULL",
                                    "IMP_ID": "NULL",
                                    "ACORDO_ID": "NULL",
                                    "TIPO_PRODUTO": "CT",
                                    "INSTANCIA": "52.179.19.141",
                                    "BANCO": "MF_cobsystems",
                                    "ORIGEM": "VCOM"
                                },
                                {
                                    "DATA": "2024-07-26",
                                    "ID_CRM": "230",
                                    "ID_CLI": "11845462823         1.29633867              ",
                                    "CPF": "11845462823         ",
                                    "DEVEDOR_ID": "1.29633867              ",
                                    "IDENTIFICADOR_ID": "102797",
                                    "TITULO_ID": "NULL",
                                    "CONTRATO_ID": "1.29633867              ",
                                    "DOCUMENTO_ID": "299862148                                                   ",
                                    "NOME": "FRANCISCA SENA DE OLIVEIRA             ",
                                    "UF": "SP",
                                    "CIDADE": "SAO PAULO                                                                                                               ",
                                    "BAIRRO": "CHACARA SANTO ANTONIO (ZONA LESTE)      ",
                                    "CEP": "3411000",
                                    "SEXO": "NULL",
                                    "DATA_NASCIMENTO": "NULL",
                                    "TIPO_TITULO": "NULL",
                                    "SEGMENTO": "CBPP",
                                    "NUMERO_PRESTACAO": "RMCA00000000005238287955 ",
                                    "QTD_PRESTACAO": "NULL",
                                    "NUMERO_BANCO": "NULL",
                                    "SETOR": "NULL",
                                    "VALOR": "20,08",
                                    "VALOR_ORIGINAL": "20,08",
                                    "LOTE": "NULL",
                                    "DATA_VENCIMENTO": "2024-07-10 00:00:00.000",
                                    "DATA_VENCIMENTO_ORIGINAL": "NULL",
                                    "DATA_IMPORTACAO": "2024-07-16 03:27:52.533",
                                    "OBSE": "NULL",
                                    "DATA_DEVOLUCAO": "NULL",
                                    "DATA_INCLUSAO": "2012-04-17",
                                    "DATA_ALTERACAO": "2024-07-16 03:27:52.533",
                                    "USUARIO_INCLUSAO": "NULL",
                                    "USUARIO_ALTERACAO": "NULL",
                                    "IMP_ID": "NULL",
                                    "ACORDO_ID": "NULL",
                                    "TIPO_PRODUTO": "PP",
                                    "INSTANCIA": "52.179.19.141",
                                    "BANCO": "MF_cobsystems",
                                    "ORIGEM": "VCOM"
                                },
                                {
                                    "DATA": "2024-07-26",
                                    "ID_CRM": "230",
                                    "ID_CLI": "39965902704         1.76148339              ",
                                    "CPF": "39965902704         ",
                                    "DEVEDOR_ID": "1.76148339              ",
                                    "IDENTIFICADOR_ID": "87401",
                                    "TITULO_ID": "NULL",
                                    "CONTRATO_ID": "1.76148339              ",
                                    "DOCUMENTO_ID": "20180091780                                                 ",
                                    "NOME": "IVANETE CORDEIRO ALVES                 ",
                                    "UF": "CE",
                                    "CIDADE": "FORTALEZA                                                                                                               ",
                                    "BAIRRO": "FATIMA                                  ",
                                    "CEP": "60411134",
                                    "SEXO": "NULL",
                                    "DATA_NASCIMENTO": "NULL",
                                    "TIPO_TITULO": "NULL",
                                    "SEGMENTO": "CLCT",
                                    "NUMERO_PRESTACAO": "RMCA00000000005252249311 ",
                                    "QTD_PRESTACAO": "NULL",
                                    "NUMERO_BANCO": "NULL",
                                    "SETOR": "NULL",
                                    "VALOR": "250,99",
                                    "VALOR_ORIGINAL": "81,99",
                                    "LOTE": "NULL",
                                    "DATA_VENCIMENTO": "2024-06-07 00:00:00.000",
                                    "DATA_VENCIMENTO_ORIGINAL": "NULL",
                                    "DATA_IMPORTACAO": "2024-07-23 02:00:44.030",
                                    "OBSE": "NULL",
                                    "DATA_DEVOLUCAO": "NULL",
                                    "DATA_INCLUSAO": "2019-02-28",
                                    "DATA_ALTERACAO": "2024-07-23 02:00:44.030",
                                    "USUARIO_INCLUSAO": "NULL",
                                    "USUARIO_ALTERACAO": "NULL",
                                    "IMP_ID": "NULL",
                                    "ACORDO_ID": "NULL",
                                    "TIPO_PRODUTO": "CT",
                                    "INSTANCIA": "52.179.19.141",
                                    "BANCO": "MF_cobsystems",
                                    "ORIGEM": "VCOM"
                                },
                                {
                                    "DATA": "2024-07-26",
                                    "ID_CRM": "230",
                                    "ID_CLI": "85965715900         1.22422147              ",
                                    "CPF": "85965715900         ",
                                    "DEVEDOR_ID": "1.22422147              ",
                                    "IDENTIFICADOR_ID": "19719",
                                    "TITULO_ID": "NULL",
                                    "CONTRATO_ID": "1.22422147              ",
                                    "DOCUMENTO_ID": "NULL",
                                    "NOME": "SERGIO UKACHINSKI                      ",
                                    "UF": "PR",
                                    "CIDADE": "CURITIBA                                                                                                                ",
                                    "BAIRRO": "BUTIATUVINHA                            ",
                                    "CEP": "82400380",
                                    "SEXO": "NULL",
                                    "DATA_NASCIMENTO": "NULL",
                                    "TIPO_TITULO": "NULL",
                                    "SEGMENTO": "CMFX",
                                    "NUMERO_PRESTACAO": "RMCA00000000003836730097 ",
                                    "QTD_PRESTACAO": "NULL",
                                    "NUMERO_BANCO": "NULL",
                                    "SETOR": "NULL",
                                    "VALOR": "86,25",
                                    "VALOR_ORIGINAL": "41,15",
                                    "LOTE": "NULL",
                                    "DATA_VENCIMENTO": "2019-05-15 00:00:00.000",
                                    "DATA_VENCIMENTO_ORIGINAL": "NULL",
                                    "DATA_IMPORTACAO": "2024-07-26 06:21:13.693",
                                    "OBSE": "NULL",
                                    "DATA_DEVOLUCAO": "NULL",
                                    "DATA_INCLUSAO": "2010-08-25",
                                    "DATA_ALTERACAO": "2024-07-26 06:21:13.693",
                                    "USUARIO_INCLUSAO": "NULL",
                                    "USUARIO_ALTERACAO": "NULL",
                                    "IMP_ID": "NULL",
                                    "ACORDO_ID": "NULL",
                                    "TIPO_PRODUTO": "FX",
                                    "INSTANCIA": "52.179.19.141",
                                    "BANCO": "MF_cobsystems",
                                    "ORIGEM": "VCOM"
                                },
                                {
                                    "DATA": "2024-07-26",
                                    "ID_CRM": "230",
                                    "ID_CLI": "22290281204         1.28895650              ",
                                    "CPF": "22290281204         ",
                                    "DEVEDOR_ID": "1.28895650              ",
                                    "IDENTIFICADOR_ID": "154171",
                                    "TITULO_ID": "NULL",
                                    "CONTRATO_ID": "1.28895650              ",
                                    "DOCUMENTO_ID": "2274354                                                     ",
                                    "NOME": "MARIA CENILDE BORGES                   ",
                                    "UF": "PA",
                                    "CIDADE": "BELEM                                                                                                                   ",
                                    "BAIRRO": "CREMACAO                                ",
                                    "CEP": "66040045",
                                    "SEXO": "NULL",
                                    "DATA_NASCIMENTO": "NULL",
                                    "TIPO_TITULO": "NULL",
                                    "SEGMENTO": "CBCT",
                                    "NUMERO_PRESTACAO": "RMCA00000000005243397033 ",
                                    "QTD_PRESTACAO": "NULL",
                                    "NUMERO_BANCO": "NULL",
                                    "SETOR": "NULL",
                                    "VALOR": "73,79",
                                    "VALOR_ORIGINAL": "73,79",
                                    "LOTE": "NULL",
                                    "DATA_VENCIMENTO": "2024-07-20 00:00:00.000",
                                    "DATA_VENCIMENTO_ORIGINAL": "NULL",
                                    "DATA_IMPORTACAO": "2024-07-13 22:53:55.550",
                                    "OBSE": "NULL",
                                    "DATA_DEVOLUCAO": "NULL",
                                    "DATA_INCLUSAO": "2012-02-20",
                                    "DATA_ALTERACAO": "2024-07-13 22:53:55.550",
                                    "USUARIO_INCLUSAO": "NULL",
                                    "USUARIO_ALTERACAO": "NULL",
                                    "IMP_ID": "NULL",
                                    "ACORDO_ID": "NULL",
                                    "TIPO_PRODUTO": "CT",
                                    "INSTANCIA": "52.179.19.141",
                                    "BANCO": "MF_cobsystems",
                                    "ORIGEM": "VCOM"
                                },
                                {
                                    "DATA": "2024-07-26",
                                    "ID_CRM": "230",
                                    "ID_CLI": "17812510883         1.47786946              ",
                                    "CPF": "17812510883         ",
                                    "DEVEDOR_ID": "1.47786946              ",
                                    "IDENTIFICADOR_ID": "154153",
                                    "TITULO_ID": "NULL",
                                    "CONTRATO_ID": "1.47786946              ",
                                    "DOCUMENTO_ID": "NULL",
                                    "NOME": "NILZA APARECIDA DE ANDRADE VITA        ",
                                    "UF": "SP",
                                    "CIDADE": "ARUJA                                                                                                                   ",
                                    "BAIRRO": "ARUJA COUNTRY CLUB                      ",
                                    "CEP": "7435220",
                                    "SEXO": "NULL",
                                    "DATA_NASCIMENTO": "NULL",
                                    "TIPO_TITULO": "NULL",
                                    "SEGMENTO": "CBCT",
                                    "NUMERO_PRESTACAO": "RMCA00000000005247853883 ",
                                    "QTD_PRESTACAO": "NULL",
                                    "NUMERO_BANCO": "NULL",
                                    "SETOR": "NULL",
                                    "VALOR": "85,52",
                                    "VALOR_ORIGINAL": "79,09",
                                    "LOTE": "NULL",
                                    "DATA_VENCIMENTO": "2024-06-25 00:00:00.000",
                                    "DATA_VENCIMENTO_ORIGINAL": "NULL",
                                    "DATA_IMPORTACAO": "2024-07-21 04:01:57.153",
                                    "OBSE": "NULL",
                                    "DATA_DEVOLUCAO": "NULL",
                                    "DATA_INCLUSAO": "2015-07-17",
                                    "DATA_ALTERACAO": "2024-07-21 04:01:57.153",
                                    "USUARIO_INCLUSAO": "NULL",
                                    "USUARIO_ALTERACAO": "NULL",
                                    "IMP_ID": "NULL",
                                    "ACORDO_ID": "NULL",
                                    "TIPO_PRODUTO": "CT",
                                    "INSTANCIA": "52.179.19.141",
                                    "BANCO": "MF_cobsystems",
                                    "ORIGEM": "VCOM"
                                },
                                {
                                    "DATA": "2024-07-26",
                                    "ID_CRM": "230",
                                    "ID_CLI": "07368786702         1.315727167             ",
                                    "CPF": "07368786702         ",
                                    "DEVEDOR_ID": "1.315727167             ",
                                    "IDENTIFICADOR_ID": "156396",
                                    "TITULO_ID": "NULL",
                                    "CONTRATO_ID": "1.315727167             ",
                                    "DOCUMENTO_ID": "07368786702                                                 ",
                                    "NOME": "CARLOS AUGUSTO DA SILVA                ",
                                    "UF": "RJ",
                                    "CIDADE": "SAO JOAO DE MERITI                                                                                                      ",
                                    "BAIRRO": "JARDIM METROPOLE                        ",
                                    "CEP": "25575080",
                                    "SEXO": "NULL",
                                    "DATA_NASCIMENTO": "NULL",
                                    "TIPO_TITULO": "NULL",
                                    "SEGMENTO": "CFCT",
                                    "NUMERO_PRESTACAO": "RMCA00000000005204195844 ",
                                    "QTD_PRESTACAO": "NULL",
                                    "NUMERO_BANCO": "NULL",
                                    "SETOR": "NULL",
                                    "VALOR": "89,97",
                                    "VALOR_ORIGINAL": "30,99",
                                    "LOTE": "NULL",
                                    "DATA_VENCIMENTO": "2024-04-01 00:00:00.000",
                                    "DATA_VENCIMENTO_ORIGINAL": "NULL",
                                    "DATA_IMPORTACAO": "2024-07-13 22:53:55.550",
                                    "OBSE": "NULL",
                                    "DATA_DEVOLUCAO": "NULL",
                                    "DATA_INCLUSAO": "2022-07-07",
                                    "DATA_ALTERACAO": "2024-07-13 22:53:55.550",
                                    "USUARIO_INCLUSAO": "NULL",
                                    "USUARIO_ALTERACAO": "NULL",
                                    "IMP_ID": "NULL",
                                    "ACORDO_ID": "NULL",
                                    "TIPO_PRODUTO": "CT",
                                    "INSTANCIA": "52.179.19.141",
                                    "BANCO": "MF_cobsystems",
                                    "ORIGEM": "VCOM"
                                },
                                {
                                    "DATA": "2024-07-26",
                                    "ID_CRM": "230",
                                    "ID_CLI": "06645028652         1.34134952              ",
                                    "CPF": "06645028652         ",
                                    "DEVEDOR_ID": "1.34134952              ",
                                    "IDENTIFICADOR_ID": "154268",
                                    "TITULO_ID": "NULL",
                                    "CONTRATO_ID": "1.34134952              ",
                                    "DOCUMENTO_ID": "0000                                                        ",
                                    "NOME": "CLAUDENETE GOMES DOS SANTOS            ",
                                    "UF": "MG",
                                    "CIDADE": "BRASILIA DE MINAS                                                                                                       ",
                                    "BAIRRO": "VALE DAS PALMEIRAS 04                   ",
                                    "CEP": "39330000",
                                    "SEXO": "NULL",
                                    "DATA_NASCIMENTO": "NULL",
                                    "TIPO_TITULO": "NULL",
                                    "SEGMENTO": "CECT",
                                    "NUMERO_PRESTACAO": "RMCA00000000005226202393 ",
                                    "QTD_PRESTACAO": "NULL",
                                    "NUMERO_BANCO": "NULL",
                                    "SETOR": "NULL",
                                    "VALOR": "257,02",
                                    "VALOR_ORIGINAL": "83,99",
                                    "LOTE": "NULL",
                                    "DATA_VENCIMENTO": "2024-04-25 00:00:00.000",
                                    "DATA_VENCIMENTO_ORIGINAL": "NULL",
                                    "DATA_IMPORTACAO": "2024-07-26 06:21:13.693",
                                    "OBSE": "NULL",
                                    "DATA_DEVOLUCAO": "NULL",
                                    "DATA_INCLUSAO": "2012-12-20",
                                    "DATA_ALTERACAO": "2024-07-26 06:21:13.693",
                                    "USUARIO_INCLUSAO": "NULL",
                                    "USUARIO_ALTERACAO": "NULL",
                                    "IMP_ID": "NULL",
                                    "ACORDO_ID": "NULL",
                                    "TIPO_PRODUTO": "CT",
                                    "INSTANCIA": "52.179.19.141",
                                    "BANCO": "MF_cobsystems",
                                    "ORIGEM": "VCOM"
                                }
                            ]
                        },
                        "text/html": "<table><tr><th>DATA</th><th>ID_CRM</th><th>ID_CLI</th><th>CPF</th><th>DEVEDOR_ID</th><th>IDENTIFICADOR_ID</th><th>TITULO_ID</th><th>CONTRATO_ID</th><th>DOCUMENTO_ID</th><th>NOME</th><th>UF</th><th>CIDADE</th><th>BAIRRO</th><th>CEP</th><th>SEXO</th><th>DATA_NASCIMENTO</th><th>TIPO_TITULO</th><th>SEGMENTO</th><th>NUMERO_PRESTACAO</th><th>QTD_PRESTACAO</th><th>NUMERO_BANCO</th><th>SETOR</th><th>VALOR</th><th>VALOR_ORIGINAL</th><th>LOTE</th><th>DATA_VENCIMENTO</th><th>DATA_VENCIMENTO_ORIGINAL</th><th>DATA_IMPORTACAO</th><th>OBSE</th><th>DATA_DEVOLUCAO</th><th>DATA_INCLUSAO</th><th>DATA_ALTERACAO</th><th>USUARIO_INCLUSAO</th><th>USUARIO_ALTERACAO</th><th>IMP_ID</th><th>ACORDO_ID</th><th>TIPO_PRODUTO</th><th>INSTANCIA</th><th>BANCO</th><th>ORIGEM</th></tr><tr><td>2024-07-26</td><td>230</td><td>06403251902         1.77476056              </td><td>06403251902         </td><td>1.77476056              </td><td>133612</td><td>NULL</td><td>1.77476056              </td><td>49773364                                                    </td><td>RICARDO JOSE WANDRESSEN GONÇALVES      </td><td>SC</td><td>TUBARAO                                                                                                                 </td><td>OFICINAS                                </td><td>88702100</td><td>NULL</td><td>NULL</td><td>NULL</td><td>CCT1</td><td>RMCA00000000005216734977 </td><td>NULL</td><td>NULL</td><td>NULL</td><td>83,23</td><td>83,23</td><td>NULL</td><td>2024-06-10 00:00:00.000</td><td>NULL</td><td>2024-07-13 22:53:55.550</td><td>NULL</td><td>NULL</td><td>2019-05-01</td><td>2024-07-13 22:53:55.550</td><td>NULL</td><td>NULL</td><td>NULL</td><td>NULL</td><td>T1</td><td>52.179.19.141</td><td>MF_cobsystems</td><td>VCOM</td></tr><tr><td>2024-07-26</td><td>230</td><td>22845763204         1.21476361              </td><td>22845763204         </td><td>1.21476361              </td><td>120029</td><td>NULL</td><td>1.21476361              </td><td>708735437                                                   </td><td>DIONISIO TADEU RODRIGUES RIBEIRO       </td><td>PA</td><td>BELEM                                                                                                                   </td><td>JURUNAS                                 </td><td>66033640</td><td>NULL</td><td>NULL</td><td>NULL</td><td>CCPP</td><td>RMCA00000000005252994817 </td><td>NULL</td><td>NULL</td><td>NULL</td><td>259,76</td><td>84,99</td><td>NULL</td><td>2024-06-07 00:00:00.000</td><td>NULL</td><td>2024-07-23 02:00:44.030</td><td>NULL</td><td>NULL</td><td>2010-04-18</td><td>2024-07-23 02:00:44.030</td><td>NULL</td><td>NULL</td><td>NULL</td><td>NULL</td><td>PP</td><td>52.179.19.141</td><td>MF_cobsystems</td><td>VCOM</td></tr><tr><td>2024-07-26</td><td>230</td><td>91885159404         1.54736921              </td><td>91885159404         </td><td>1.54736921              </td><td>104117</td><td>NULL</td><td>1.54736921              </td><td>NULL</td><td>GILVANIA RODRIGUES DE FRANÇA           </td><td>PE</td><td>RECIFE                                                                                                                  </td><td>VARZEA                                  </td><td>50960450</td><td>NULL</td><td>NULL</td><td>NULL</td><td>CLCT</td><td>RMCA00000000005173332059 </td><td>NULL</td><td>NULL</td><td>NULL</td><td>14,18</td><td>14,18</td><td>NULL</td><td>2024-04-10 00:00:00.000</td><td>NULL</td><td>2024-07-13 22:53:55.550</td><td>NULL</td><td>NULL</td><td>2016-10-07</td><td>2024-07-13 22:53:55.550</td><td>NULL</td><td>NULL</td><td>NULL</td><td>NULL</td><td>CT</td><td>52.179.19.141</td><td>MF_cobsystems</td><td>VCOM</td></tr><tr><td>2024-07-26</td><td>230</td><td>11845462823         1.29633867              </td><td>11845462823         </td><td>1.29633867              </td><td>102797</td><td>NULL</td><td>1.29633867              </td><td>299862148                                                   </td><td>FRANCISCA SENA DE OLIVEIRA             </td><td>SP</td><td>SAO PAULO                                                                                                               </td><td>CHACARA SANTO ANTONIO (ZONA LESTE)      </td><td>3411000</td><td>NULL</td><td>NULL</td><td>NULL</td><td>CBPP</td><td>RMCA00000000005238287955 </td><td>NULL</td><td>NULL</td><td>NULL</td><td>20,08</td><td>20,08</td><td>NULL</td><td>2024-07-10 00:00:00.000</td><td>NULL</td><td>2024-07-16 03:27:52.533</td><td>NULL</td><td>NULL</td><td>2012-04-17</td><td>2024-07-16 03:27:52.533</td><td>NULL</td><td>NULL</td><td>NULL</td><td>NULL</td><td>PP</td><td>52.179.19.141</td><td>MF_cobsystems</td><td>VCOM</td></tr><tr><td>2024-07-26</td><td>230</td><td>39965902704         1.76148339              </td><td>39965902704         </td><td>1.76148339              </td><td>87401</td><td>NULL</td><td>1.76148339              </td><td>20180091780                                                 </td><td>IVANETE CORDEIRO ALVES                 </td><td>CE</td><td>FORTALEZA                                                                                                               </td><td>FATIMA                                  </td><td>60411134</td><td>NULL</td><td>NULL</td><td>NULL</td><td>CLCT</td><td>RMCA00000000005252249311 </td><td>NULL</td><td>NULL</td><td>NULL</td><td>250,99</td><td>81,99</td><td>NULL</td><td>2024-06-07 00:00:00.000</td><td>NULL</td><td>2024-07-23 02:00:44.030</td><td>NULL</td><td>NULL</td><td>2019-02-28</td><td>2024-07-23 02:00:44.030</td><td>NULL</td><td>NULL</td><td>NULL</td><td>NULL</td><td>CT</td><td>52.179.19.141</td><td>MF_cobsystems</td><td>VCOM</td></tr><tr><td>2024-07-26</td><td>230</td><td>85965715900         1.22422147              </td><td>85965715900         </td><td>1.22422147              </td><td>19719</td><td>NULL</td><td>1.22422147              </td><td>NULL</td><td>SERGIO UKACHINSKI                      </td><td>PR</td><td>CURITIBA                                                                                                                </td><td>BUTIATUVINHA                            </td><td>82400380</td><td>NULL</td><td>NULL</td><td>NULL</td><td>CMFX</td><td>RMCA00000000003836730097 </td><td>NULL</td><td>NULL</td><td>NULL</td><td>86,25</td><td>41,15</td><td>NULL</td><td>2019-05-15 00:00:00.000</td><td>NULL</td><td>2024-07-26 06:21:13.693</td><td>NULL</td><td>NULL</td><td>2010-08-25</td><td>2024-07-26 06:21:13.693</td><td>NULL</td><td>NULL</td><td>NULL</td><td>NULL</td><td>FX</td><td>52.179.19.141</td><td>MF_cobsystems</td><td>VCOM</td></tr><tr><td>2024-07-26</td><td>230</td><td>22290281204         1.28895650              </td><td>22290281204         </td><td>1.28895650              </td><td>154171</td><td>NULL</td><td>1.28895650              </td><td>2274354                                                     </td><td>MARIA CENILDE BORGES                   </td><td>PA</td><td>BELEM                                                                                                                   </td><td>CREMACAO                                </td><td>66040045</td><td>NULL</td><td>NULL</td><td>NULL</td><td>CBCT</td><td>RMCA00000000005243397033 </td><td>NULL</td><td>NULL</td><td>NULL</td><td>73,79</td><td>73,79</td><td>NULL</td><td>2024-07-20 00:00:00.000</td><td>NULL</td><td>2024-07-13 22:53:55.550</td><td>NULL</td><td>NULL</td><td>2012-02-20</td><td>2024-07-13 22:53:55.550</td><td>NULL</td><td>NULL</td><td>NULL</td><td>NULL</td><td>CT</td><td>52.179.19.141</td><td>MF_cobsystems</td><td>VCOM</td></tr><tr><td>2024-07-26</td><td>230</td><td>17812510883         1.47786946              </td><td>17812510883         </td><td>1.47786946              </td><td>154153</td><td>NULL</td><td>1.47786946              </td><td>NULL</td><td>NILZA APARECIDA DE ANDRADE VITA        </td><td>SP</td><td>ARUJA                                                                                                                   </td><td>ARUJA COUNTRY CLUB                      </td><td>7435220</td><td>NULL</td><td>NULL</td><td>NULL</td><td>CBCT</td><td>RMCA00000000005247853883 </td><td>NULL</td><td>NULL</td><td>NULL</td><td>85,52</td><td>79,09</td><td>NULL</td><td>2024-06-25 00:00:00.000</td><td>NULL</td><td>2024-07-21 04:01:57.153</td><td>NULL</td><td>NULL</td><td>2015-07-17</td><td>2024-07-21 04:01:57.153</td><td>NULL</td><td>NULL</td><td>NULL</td><td>NULL</td><td>CT</td><td>52.179.19.141</td><td>MF_cobsystems</td><td>VCOM</td></tr><tr><td>2024-07-26</td><td>230</td><td>07368786702         1.315727167             </td><td>07368786702         </td><td>1.315727167             </td><td>156396</td><td>NULL</td><td>1.315727167             </td><td>07368786702                                                 </td><td>CARLOS AUGUSTO DA SILVA                </td><td>RJ</td><td>SAO JOAO DE MERITI                                                                                                      </td><td>JARDIM METROPOLE                        </td><td>25575080</td><td>NULL</td><td>NULL</td><td>NULL</td><td>CFCT</td><td>RMCA00000000005204195844 </td><td>NULL</td><td>NULL</td><td>NULL</td><td>89,97</td><td>30,99</td><td>NULL</td><td>2024-04-01 00:00:00.000</td><td>NULL</td><td>2024-07-13 22:53:55.550</td><td>NULL</td><td>NULL</td><td>2022-07-07</td><td>2024-07-13 22:53:55.550</td><td>NULL</td><td>NULL</td><td>NULL</td><td>NULL</td><td>CT</td><td>52.179.19.141</td><td>MF_cobsystems</td><td>VCOM</td></tr><tr><td>2024-07-26</td><td>230</td><td>06645028652         1.34134952              </td><td>06645028652         </td><td>1.34134952              </td><td>154268</td><td>NULL</td><td>1.34134952              </td><td>0000                                                        </td><td>CLAUDENETE GOMES DOS SANTOS            </td><td>MG</td><td>BRASILIA DE MINAS                                                                                                       </td><td>VALE DAS PALMEIRAS 04                   </td><td>39330000</td><td>NULL</td><td>NULL</td><td>NULL</td><td>CECT</td><td>RMCA00000000005226202393 </td><td>NULL</td><td>NULL</td><td>NULL</td><td>257,02</td><td>83,99</td><td>NULL</td><td>2024-04-25 00:00:00.000</td><td>NULL</td><td>2024-07-26 06:21:13.693</td><td>NULL</td><td>NULL</td><td>2012-12-20</td><td>2024-07-26 06:21:13.693</td><td>NULL</td><td>NULL</td><td>NULL</td><td>NULL</td><td>CT</td><td>52.179.19.141</td><td>MF_cobsystems</td><td>VCOM</td></tr></table>"
                    },
                    "metadata": {}
                }
            ],
            "execution_count": 26
        }
    ]
}