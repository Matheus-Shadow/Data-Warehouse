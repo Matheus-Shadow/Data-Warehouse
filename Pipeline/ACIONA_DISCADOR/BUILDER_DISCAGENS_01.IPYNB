{
 "cells": [
  {
   "cell_type": "code",
   "execution_count": 1,
   "metadata": {},
   "outputs": [],
   "source": [
    "import pandas as pd\n",
    "import logging\n",
    "import os\n",
    "import sys\n",
    "from dotenv import load_dotenv\n",
    "import pyodbc \n",
    "\n",
    "sys.path.insert(1, r'C:\\Users\\int.matheus\\Desktop\\DW\\Data-Warehouse\\Func')\n",
    "from utils2 import clear_env_variables, load_env, connect_to_database, execute_query_sql"
   ]
  },
  {
   "cell_type": "code",
   "execution_count": 2,
   "metadata": {},
   "outputs": [],
   "source": [
    "logging.basicConfig(level=logging.INFO, format='%(asctime)s - %(levelname)s - %(message)s')\n",
    "\n",
    "def process_query(env_file_path, query_file_path):\n",
    "    clear_env_variables()\n",
    "    env_vars = load_env(env_file_path)\n",
    "    required_vars = ['SERVER', 'DATABASE', 'USERNAME', 'PASSWORD', 'DRIVER', 'PORT']\n",
    "    \n",
    "    if all([env_vars.get(var) for var in required_vars]):\n",
    "        try:\n",
    "            conn = connect_to_database(env_vars)\n",
    "            \n",
    "            if conn:\n",
    "                try:\n",
    "                    df = execute_query_sql(conn, query_file_path)\n",
    "                    conn.close()\n",
    "                    logging.info(f\"DataFrame criado com {len(df)} linhas.\")\n",
    "                    return df\n",
    "                \n",
    "                except Exception as e:\n",
    "                    logging.error(f\"Erro ao executar a consulta SQL: {str(e)}\")\n",
    "                    return pd.DataFrame()\n",
    "            \n",
    "            else:\n",
    "                logging.error(\"Falha na conexão ao banco de dados.\")\n",
    "                return pd.DataFrame()\n",
    "        \n",
    "        except pyodbc.Error as ex:\n",
    "            logging.error(f\"Erro ao conectar ao banco de dados: {str(ex)}\")\n",
    "            return pd.DataFrame()\n",
    "    \n",
    "    else:\n",
    "        logging.error(\"Erro: Não foi possível carregar todas as variáveis de ambiente necessárias.\")\n",
    "        return pd.DataFrame()"
   ]
  },
  {
   "cell_type": "code",
   "execution_count": 3,
   "metadata": {},
   "outputs": [
    {
     "name": "stderr",
     "output_type": "stream",
     "text": [
      "2024-07-02 14:40:33,719 - INFO - Variáveis de ambiente carregadas: {'SERVER': '45.77.94.104', 'DATABASE': 'dbActyon_Tim_RPL', 'USERNAME': 'mis', 'PASSWORD': 'mis@123', 'DRIVER': '{ODBC Driver 17 for SQL Server}', 'PORT': '1433'}\n",
      "2024-07-02 14:40:48,860 - ERROR - Erro ao conectar ao banco de dados: ('08001', '[08001] [Microsoft][ODBC Driver 17 for SQL Server]Provedor TCP: O tempo limite de espera foi atingido.\\r\\n (258) (SQLDriverConnect); [08001] [Microsoft][ODBC Driver 17 for SQL Server]O tempo limite do logon expirou (0); [08001] [Microsoft][ODBC Driver 17 for SQL Server]Erro relatado pela rede ou específico à instância ao estabelecer conexão com o SQL Server. O servidor não foi encontrado ou não está acessível. Verifique se o nome da instância está correto e se o SQL Server está configurado para permitir conexões remotas. Para obter mais informações, consulte os Manuais Online do SQL Server. (258)')\n",
      "2024-07-02 14:40:48,862 - ERROR - Falha na conexão ao banco de dados.\n",
      "2024-07-02 14:40:48,874 - INFO - Variáveis de ambiente carregadas: {'SERVER': '45.77.164.133', 'DATABASE': 'dbActyon_Kedu', 'USERNAME': 'mis', 'PASSWORD': 'mis@123', 'DRIVER': '{ODBC Driver 17 for SQL Server}', 'PORT': '1433'}\n",
      "2024-07-02 14:40:50,140 - INFO - Conexão ao banco de dados estabelecida.\n",
      "2024-07-02 14:40:50,142 - ERROR - Erro ao executar a consulta SQL: [Errno 2] No such file or directory: 'C:\\\\Users\\\\int.matheus\\\\Desktop\\\\DW\\\\Data-Warehouse\\\\Source\\\\ACTYON\\\\ACIONA_CRM\\\\ACIONA_CRM.SQL'\n",
      "2024-07-02 14:40:50,425 - INFO - DataFrame criado com 0 linhas.\n",
      "2024-07-02 14:40:50,446 - INFO - Variáveis de ambiente carregadas: {'SERVER': '192.168.10.200', 'DATABASE': 'dbactyon_meireles2', 'USERNAME': 'robo6.mis', 'PASSWORD': 'MIS@MF#2024', 'DRIVER': '{ODBC Driver 17 for SQL Server}', 'PORT': '1433'}\n",
      "2024-07-02 14:41:05,559 - ERROR - Erro ao conectar ao banco de dados: ('08001', '[08001] [Microsoft][ODBC Driver 17 for SQL Server]Provedor TCP: O tempo limite de espera foi atingido.\\r\\n (258) (SQLDriverConnect); [08001] [Microsoft][ODBC Driver 17 for SQL Server]O tempo limite do logon expirou (0); [08001] [Microsoft][ODBC Driver 17 for SQL Server]Erro relatado pela rede ou específico à instância ao estabelecer conexão com o SQL Server. O servidor não foi encontrado ou não está acessível. Verifique se o nome da instância está correto e se o SQL Server está configurado para permitir conexões remotas. Para obter mais informações, consulte os Manuais Online do SQL Server. (258)')\n",
      "2024-07-02 14:41:05,560 - ERROR - Falha na conexão ao banco de dados.\n",
      "2024-07-02 14:41:05,586 - INFO - Variáveis de ambiente carregadas: {'SERVER': '1192.168.10.100', 'DATABASE': 'dbActyon_MFreitas', 'USERNAME': 'robo6.mis', 'PASSWORD': 'MIS@MF#2024', 'DRIVER': '{ODBC Driver 17 for SQL Server}', 'PORT': '1433'}\n",
      "2024-07-02 14:41:20,618 - ERROR - Erro ao conectar ao banco de dados: ('08001', '[08001] [Microsoft][ODBC Driver 17 for SQL Server]Provedor TCP: Este host não é conhecido.\\r\\n (11001) (SQLDriverConnect); [08001] [Microsoft][ODBC Driver 17 for SQL Server]O tempo limite do logon expirou (0); [08001] [Microsoft][ODBC Driver 17 for SQL Server]Erro relatado pela rede ou específico à instância ao estabelecer conexão com o SQL Server. O servidor não foi encontrado ou não está acessível. Verifique se o nome da instância está correto e se o SQL Server está configurado para permitir conexões remotas. Para obter mais informações, consulte os Manuais Online do SQL Server. (11001)')\n",
      "2024-07-02 14:41:20,619 - ERROR - Falha na conexão ao banco de dados.\n",
      "2024-07-02 14:41:20,623 - INFO - DataFrame combinado criado com 0 linhas.\n"
     ]
    },
    {
     "data": {
      "text/html": [
       "<div>\n",
       "<style scoped>\n",
       "    .dataframe tbody tr th:only-of-type {\n",
       "        vertical-align: middle;\n",
       "    }\n",
       "\n",
       "    .dataframe tbody tr th {\n",
       "        vertical-align: top;\n",
       "    }\n",
       "\n",
       "    .dataframe thead th {\n",
       "        text-align: right;\n",
       "    }\n",
       "</style>\n",
       "<table border=\"1\" class=\"dataframe\">\n",
       "  <thead>\n",
       "    <tr style=\"text-align: right;\">\n",
       "      <th></th>\n",
       "    </tr>\n",
       "  </thead>\n",
       "  <tbody>\n",
       "  </tbody>\n",
       "</table>\n",
       "</div>"
      ],
      "text/plain": [
       "Empty DataFrame\n",
       "Columns: []\n",
       "Index: []"
      ]
     },
     "metadata": {},
     "output_type": "display_data"
    }
   ],
   "source": [
    "# TAKS_01\n",
    "env_file_path_Task_01 = r'C:\\Users\\int.matheus\\Desktop\\DW\\Data-Warehouse\\Environment\\.Env_07'\n",
    "query_file_path_Task_01 = r'C:\\Users\\int.matheus\\Desktop\\DW\\Data-Warehouse\\Source\\ACTYON\\ACIONA_CRM\\ACIONA_CRM.SQL'\n",
    "\n",
    "# Processar a TAKS_01\n",
    "df_task_01 = process_query(env_file_path_Task_01, query_file_path_Task_01)\n",
    "\n",
    "# TAKS_02\n",
    "env_file_path_Task_02 = r'C:\\Users\\int.matheus\\Desktop\\DW\\Data-Warehouse\\Environment\\.Env_08'\n",
    "query_file_path_Task_02 = r'C:\\Users\\int.matheus\\Desktop\\DW\\Data-Warehouse\\Source\\ACTYON\\ACIONA_CRM\\ACIONA_CRM.SQL'\n",
    "\n",
    "# Processar a TAKS_02\n",
    "df_task_02 = process_query(env_file_path_Task_02, query_file_path_Task_02)\n",
    "\n",
    "# TAKS_03\n",
    "env_file_path_Task_03 = r'C:\\Users\\int.matheus\\Desktop\\DW\\Data-Warehouse\\Environment\\.Env_09'\n",
    "query_file_path_Task_03 = r'C:\\Users\\int.matheus\\Desktop\\DW\\Data-Warehouse\\Source\\ACTYON\\ACIONA_CRM\\ACIONA_CRM.SQL'\n",
    "\n",
    "# Processar a TAKS_03\n",
    "df_task_03 = process_query(env_file_path_Task_03, query_file_path_Task_03)\n",
    "\n",
    "# TAKS_04\n",
    "env_file_path_Task_04 = r'C:\\Users\\int.matheus\\Desktop\\DW\\Data-Warehouse\\Environment\\.Env_10'\n",
    "query_file_path_Task_04 = r'C:\\Users\\int.matheus\\Desktop\\DW\\Data-Warehouse\\Source\\ACTYON\\ACIONA_CRM\\ACIONA_CRM.SQL'\n",
    "\n",
    "# Processar a TAKS_04\n",
    "df_task_04 = process_query(env_file_path_Task_04, query_file_path_Task_04)\n",
    "\n",
    "\n",
    "# Combinar os DataFrames\n",
    "combined_df = pd.concat([df_task_01, df_task_02,df_task_03,df_task_04], ignore_index=True)\n",
    "\n",
    "# Exibir o DataFrame combinado\n",
    "logging.info(f\"DataFrame combinado criado com {len(combined_df)} linhas.\")\n",
    "display(combined_df)\n"
   ]
  },
  {
   "cell_type": "code",
   "execution_count": null,
   "metadata": {},
   "outputs": [],
   "source": [
    "with DAG('DAG_EXACT_SDR_LEADS.py', start_date=datetime(2023,10,19), \n",
    "         schedule='07 * * * *', catchup=False) as dag:\n",
    "\n",
    "    t_captura_conta_dados = PythonOperator(\n",
    "        task_id='captura_conta_dados',\n",
    "        python_callable=captura_conta_dados\n",
    "    )\n",
    "\n",
    "    t_e_valida = BranchPythonOperator(\n",
    "        task_id='e_valida',\n",
    "        python_callable=e_valida\n",
    "    )\n",
    "\n",
    "    t_valido = BashOperator(\n",
    "        task_id='valido',\n",
    "        bash_command=\"echo 'Quantidade Ok'\"\n",
    "    )\n",
    "\n",
    "    t_nvalido = BashOperator(\n",
    "        task_id='nvalido',\n",
    "        bash_command=\"echo 'Quantidade Não Ok'\"\n",
    "    )\n",
    "\n",
    "\n",
    "t_captura_conta_dados >> t_e_valida >> [t_valido, t_nvalido]"
   ]
  }
 ],
 "metadata": {
  "kernelspec": {
   "display_name": "Python 3",
   "language": "python",
   "name": "python3"
  },
  "language_info": {
   "codemirror_mode": {
    "name": "ipython",
    "version": 3
   },
   "file_extension": ".py",
   "mimetype": "text/x-python",
   "name": "python",
   "nbconvert_exporter": "python",
   "pygments_lexer": "ipython3",
   "version": "3.12.1"
  }
 },
 "nbformat": 4,
 "nbformat_minor": 2
}
