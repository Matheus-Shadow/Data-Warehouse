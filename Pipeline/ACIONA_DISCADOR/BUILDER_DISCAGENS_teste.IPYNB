{
 "cells": [
  {
   "cell_type": "code",
   "execution_count": 6,
   "metadata": {},
   "outputs": [
    {
     "name": "stderr",
     "output_type": "stream",
     "text": [
      "2024-06-21 14:30:24,373 - INFO - Variáveis de ambiente carregadas: {'SERVER': '45.77.94.104', 'DATABASE': 'dbActyon_Tim_RPL', 'USERNAME': 'mis', 'PASSWORD': 'mis@123', 'DRIVER': '{ODBC Driver 17 for SQL Server}', 'PORT': '1433'}\n",
      "2024-06-21 14:30:24,375 - ERROR - Erro ao conectar ao banco de dados: ('IM012', '[IM012] [Microsoft][ODBC Driver Manager] Erro de sintaxe da palavra-chave DRIVER (0) (SQLDriverConnect)')\n",
      "2024-06-21 14:30:24,378 - ERROR - Falha na conexão ao banco de dados.\n",
      "2024-06-21 14:30:24,381 - INFO - Variáveis de ambiente carregadas: {'SERVER': '45.77.164.133', 'DATABASE': 'dbActyon_Kedu', 'USERNAME': 'mis', 'PASSWORD': 'mis@123', 'DRIVER': '{ODBC Driver 17 for SQL Server}', 'PORT': '1433'}\n",
      "2024-06-21 14:30:24,382 - ERROR - Erro ao conectar ao banco de dados: ('IM012', '[IM012] [Microsoft][ODBC Driver Manager] Erro de sintaxe da palavra-chave DRIVER (0) (SQLDriverConnect)')\n",
      "2024-06-21 14:30:24,382 - ERROR - Falha na conexão ao banco de dados.\n",
      "2024-06-21 14:30:24,382 - INFO - DataFrame combinado criado com 0 linhas.\n"
     ]
    }
   ],
   "source": [
    "import pandas as pd\n",
    "import logging\n",
    "import os\n",
    "import sys\n",
    "from dotenv import load_dotenv\n",
    "\n",
    "sys.path.insert(1, r'C:\\Users\\int.matheus\\Desktop\\DW\\Data-Warehouse\\Func')\n",
    "from utils import clear_env_variables, load_env, connect_to_database, execute_query_sql\n",
    "\n",
    "if __name__ == \"__main__\":\n",
    "    logging.basicConfig(level=logging.INFO, format='%(asctime)s - %(levelname)s - %(message)s')\n",
    "\n",
    "    def process_query(env_file_path, query_file_path):\n",
    "        # Limpar variáveis de ambiente anteriores, se houver\n",
    "        clear_env_variables()\n",
    "        \n",
    "        # Carregar variáveis de ambiente do .env\n",
    "        env_vars = load_env(env_file_path)\n",
    "        \n",
    "        # Verificar se todas as variáveis de ambiente necessárias foram carregadas\n",
    "        required_vars = ['SERVER', 'DATABASE', 'USERNAME', 'PASSWORD', 'DRIVER', 'PORT']\n",
    "        if all([env_vars.get(var) for var in required_vars]):\n",
    "            # Conectar ao banco de dados usando as variáveis do .env\n",
    "            conn = connect_to_database(env_vars)\n",
    "            \n",
    "            if conn:\n",
    "                try:\n",
    "                    # Executar a consulta SQL e obter o DataFrame\n",
    "                    df = execute_query_sql(conn, query_file_path)\n",
    "                    \n",
    "                    # Desconectar do banco de dados\n",
    "                    conn.close()\n",
    "                    \n",
    "                    logging.info(f\"DataFrame criado com {len(df)} linhas.\")\n",
    "                    return df\n",
    "                \n",
    "                except Exception as e:\n",
    "                    logging.error(f\"Erro ao executar a consulta SQL: {str(e)}\")\n",
    "                    return pd.DataFrame()  # Gerar DataFrame vazio em caso de erro na consulta\n",
    "            else:\n",
    "                logging.error(\"Falha na conexão ao banco de dados.\")\n",
    "                return pd.DataFrame()  # Gerar DataFrame vazio se a conexão falhar\n",
    "        else:\n",
    "            logging.error(\"Erro: Não foi possível carregar todas as variáveis de ambiente necessárias.\")\n",
    "            return pd.DataFrame()  # Gerar DataFrame vazio se as variáveis de ambiente não forem carregadas corretamente\n",
    "\n",
    "    # Defina os caminhos para os arquivos .env e SQL\n",
    "    env_file_paths = [\n",
    "        r'C:\\Users\\int.matheus\\Desktop\\DW\\Data-Warehouse\\Environment\\.Env_07',\n",
    "        r'C:\\Users\\int.matheus\\Desktop\\DW\\Data-Warehouse\\Environment\\.Env_08'\n",
    "    ]\n",
    "    query_file_path = r'C:\\Users\\int.matheus\\Desktop\\DW\\Data-Warehouse\\Source\\ACTYON\\ACIONA_CRM\\ACIONA_CRM.SQL'\n",
    "\n",
    "    # Processar cada conjunto de arquivos .env e SQL\n",
    "    dfs = [process_query(env_file_path, query_file_path) for env_file_path in env_file_paths]\n",
    "\n",
    "    # Inicialize combined_df como um DataFrame vazio\n",
    "    combined_df = pd.DataFrame()\n",
    "\n",
    "    # Iterar sobre a lista de DataFrames e concatená-los\n",
    "    for df in dfs:\n",
    "        if not df.empty:\n",
    "            if combined_df.empty:\n",
    "                combined_df = df  # Se combined_df estiver vazio, defina-o como o primeiro DataFrame não vazio\n",
    "            else:\n",
    "                combined_df = pd.concat([combined_df, df], ignore_index=True)  # Concatene com o DataFrame existente\n",
    "\n",
    "    # Exibir o DataFrame combinado\n",
    "    logging.info(f\"DataFrame combinado criado com {len(combined_df)} linhas.\")\n",
    "    # print(combined_df)  # Descomente para exibir o DataFrame combinado\n"
   ]
  }
 ],
 "metadata": {
  "kernelspec": {
   "display_name": "Python 3",
   "language": "python",
   "name": "python3"
  },
  "language_info": {
   "codemirror_mode": {
    "name": "ipython",
    "version": 3
   },
   "file_extension": ".py",
   "mimetype": "text/x-python",
   "name": "python",
   "nbconvert_exporter": "python",
   "pygments_lexer": "ipython3",
   "version": "3.12.1"
  }
 },
 "nbformat": 4,
 "nbformat_minor": 2
}
