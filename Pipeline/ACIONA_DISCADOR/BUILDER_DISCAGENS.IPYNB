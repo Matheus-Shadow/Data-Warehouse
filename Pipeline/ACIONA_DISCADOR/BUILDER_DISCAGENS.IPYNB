{
 "cells": [
  {
   "cell_type": "code",
   "execution_count": 1,
   "metadata": {},
   "outputs": [],
   "source": [
    "import pandas as pd\n",
    "import logging\n",
    "import os\n",
    "import sys"
   ]
  },
  {
   "cell_type": "code",
   "execution_count": 2,
   "metadata": {},
   "outputs": [],
   "source": [
    "sys.path.insert(1, r'C:\\Users\\int.matheus\\Desktop\\DW\\Data-Warehouse\\Func')\n",
    "from utils import connect_to_database, execute_query, main, load_dotenv"
   ]
  },
  {
   "cell_type": "code",
   "execution_count": 4,
   "metadata": {},
   "outputs": [
    {
     "name": "stderr",
     "output_type": "stream",
     "text": [
      "2024-06-21 11:52:19,618 - INFO - Conexão ao banco de dados estabelecida.\n",
      "2024-06-21 11:52:19,735 - ERROR - Erro ao executar a consulta SQL: Shape of passed values is (6, 1), indices imply (6, 2)\n"
     ]
    },
    {
     "name": "stdout",
     "output_type": "stream",
     "text": [
      "[(1, 'TIM - CONTROLE / POS PAGO'), (2, 'TIM - ULTRA FIBRA / LIVE'), (3, 'TIM - OI'), (4, 'TIM - PILOTO DEEPDIVE'), (5, 'TIM - Baixo risco'), (6, 'TIM - Alto risco')]\n"
     ]
    },
    {
     "name": "stderr",
     "output_type": "stream",
     "text": [
      "2024-06-21 11:52:19,965 - INFO - DataFrame df1 criado com 0 linhas.\n"
     ]
    }
   ],
   "source": [
    "if __name__ == \"__main__\":\n",
    "    # Defina o caminho para o primeiro arquivo .env e o primeiro arquivo SQL\n",
    "    env_file_path_1 = r'C:\\Users\\int.matheus\\Desktop\\DW\\Data-Warehouse\\Environment\\.Env_07'\n",
    "    query_file_path_1 = r'C:\\Users\\int.matheus\\Desktop\\DW\\Data-Warehouse\\Source\\ACTYON\\ACIONA_CRM\\ACIONA_CRM.SQL'\n",
    "    \n",
    "    # Carregar variáveis de ambiente do .env\n",
    "    load_dotenv(env_file_path_1)\n",
    "    \n",
    "    # Verificar se todas as variáveis de ambiente necessárias foram carregadas\n",
    "    required_vars = ['SERVER_MIS', 'DATABASE_MIS', 'USERNAME_MIS', 'PASSWORD_MIS', 'DRIVER_MIS', 'PORT_MIS']\n",
    "    if all([os.getenv(var) for var in required_vars]):\n",
    "        # Conectar ao banco de dados usando as variáveis do .env\n",
    "        conn, cursor = connect_to_database({\n",
    "            'SERVER': os.getenv('SERVER_MIS'),\n",
    "            'DATABASE': os.getenv('DATABASE_MIS'),\n",
    "            'USERNAME': os.getenv('USERNAME_MIS'),\n",
    "            'PASSWORD': os.getenv('PASSWORD_MIS'),\n",
    "            'DRIVER': os.getenv('DRIVER_MIS'),\n",
    "            'PORT': os.getenv('PORT_MIS')\n",
    "        })\n",
    "        \n",
    "        if conn and cursor:\n",
    "            try:\n",
    "                # Executar a consulta SQL e obter o DataFrame\n",
    "                df1 = execute_query(cursor, query_file_path_1)\n",
    "                \n",
    "                # Desconectar do banco de dados\n",
    "                conn.close()\n",
    "                \n",
    "            except Exception as e:\n",
    "                logging.error(f\"Erro ao executar a consulta SQL: {str(e)}\")\n",
    "                df1 = pd.DataFrame()  # Gerar DataFrame vazio em caso de erro na consulta\n",
    "        else:\n",
    "            # Se não foi possível conectar ao banco de dados, gerar DataFrame vazio\n",
    "            df1 = pd.DataFrame()\n",
    "    else:\n",
    "        # Se não foi possível carregar todas as variáveis de ambiente do .env, gerar DataFrame vazio\n",
    "        df1 = pd.DataFrame()\n",
    "    \n",
    "    # Continuar com o processamento do DataFrame df1 conforme necessário\n",
    "    # Exemplo: salvar df1 em um arquivo, realizar análises, etc.\n",
    "    logging.info(f\"DataFrame df1 criado com {len(df1)} linhas.\")"
   ]
  },
  {
   "cell_type": "code",
   "execution_count": 16,
   "metadata": {},
   "outputs": [
    {
     "ename": "IndentationError",
     "evalue": "unexpected indent (1322697543.py, line 9)",
     "output_type": "error",
     "traceback": [
      "\u001b[1;36m  Cell \u001b[1;32mIn[16], line 9\u001b[1;36m\u001b[0m\n\u001b[1;33m    if not df1.empty and not df2.empty:\u001b[0m\n\u001b[1;37m    ^\u001b[0m\n\u001b[1;31mIndentationError\u001b[0m\u001b[1;31m:\u001b[0m unexpected indent\n"
     ]
    }
   ],
   "source": [
    "# Defina o caminho para o segundo arquivo .env e o segundo arquivo SQL\n",
    "env_file_path_2 = r'C:\\Users\\int.matheus\\Desktop\\DW\\Data-Warehouse\\Environment\\.Env_08'\n",
    "query_file_path_2 = r'C:\\Users\\int.matheus\\Desktop\\DW\\Data-Warehouse\\Queries\\query_2.sql'\n",
    "    \n",
    "    # Conectar ao segundo banco, executar a consulta e obter o DataFrame\n",
    "df2 = main(env_file_path_2, query_file_path_2)\n",
    "    \n",
    "    # Unir os DataFrames, se ambos tiverem dados\n",
    "    if not df1.empty and not df2.empty:\n",
    "        combined_df = pd.concat([df1, df2], ignore_index=True)\n",
    "    elif not df1.empty:\n",
    "        combined_df = df1\n",
    "    else:\n",
    "        combined_df = df2\n",
    "    \n",
    "    # Exibir o DataFrame combinado\n",
    "    print(combined_df)"
   ]
  }
 ],
 "metadata": {
  "kernelspec": {
   "display_name": "Python 3",
   "language": "python",
   "name": "python3"
  },
  "language_info": {
   "codemirror_mode": {
    "name": "ipython",
    "version": 3
   },
   "file_extension": ".py",
   "mimetype": "text/x-python",
   "name": "python",
   "nbconvert_exporter": "python",
   "pygments_lexer": "ipython3",
   "version": "3.12.1"
  }
 },
 "nbformat": 4,
 "nbformat_minor": 2
}
