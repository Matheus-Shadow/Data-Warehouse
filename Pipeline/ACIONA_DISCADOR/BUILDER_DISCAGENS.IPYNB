{
 "cells": [
  {
   "cell_type": "code",
   "execution_count": 95,
   "metadata": {},
   "outputs": [],
   "source": [
    "import pandas as pd\n",
    "import logging\n",
    "import os\n",
    "import sys"
   ]
  },
  {
   "cell_type": "code",
   "execution_count": 96,
   "metadata": {},
   "outputs": [],
   "source": [
    "sys.path.insert(1, r'C:\\Users\\int.matheus\\Desktop\\DW\\Data-Warehouse\\Func')\n",
    "from utils import connect_to_database, execute_query, main, load_dotenv"
   ]
  },
  {
   "cell_type": "code",
   "execution_count": 97,
   "metadata": {},
   "outputs": [
    {
     "name": "stderr",
     "output_type": "stream",
     "text": [
      "2024-06-21 13:08:22,764 - INFO - Conexão ao banco de dados estabelecida.\n",
      "C:\\Users\\int.matheus\\AppData\\Local\\Temp\\ipykernel_23640\\3102702686.py:7: UserWarning: pandas only supports SQLAlchemy connectable (engine/connection) or database string URI or sqlite3 DBAPI2 connection. Other DBAPI2 objects are not tested. Please consider using SQLAlchemy.\n",
      "  df = pd.read_sql_query(query, conn)\n",
      "2024-06-21 13:08:22,879 - INFO - Consulta SQL executada com sucesso.\n",
      "2024-06-21 13:08:23,096 - INFO - DataFrame df1 criado com 6 linhas.\n"
     ]
    }
   ],
   "source": [
    "if __name__ == \"__main__\":\n",
    "    # Defina o caminho para o primeiro arquivo .env e o primeiro arquivo SQL\n",
    "    env_file_path_7 = r'C:\\Users\\int.matheus\\Desktop\\DW\\Data-Warehouse\\Environment\\.Env_07'\n",
    "    query_file_path_1 = r'C:\\Users\\int.matheus\\Desktop\\DW\\Data-Warehouse\\Source\\ACTYON\\ACIONA_CRM\\ACIONA_CRM.SQL'\n",
    "    \n",
    "    # Carregar variáveis de ambiente do .env\n",
    "    load_dotenv(env_file_path_7)\n",
    "    \n",
    "    # Verificar se todas as variáveis de ambiente necessárias foram carregadas\n",
    "    required_vars = ['SERVER_MIS', 'DATABASE_MIS', 'USERNAME_MIS', 'PASSWORD_MIS', 'DRIVER_MIS', 'PORT_MIS']\n",
    "    if all([os.getenv(var) for var in required_vars]):\n",
    "        # Conectar ao banco de dados usando as variáveis do .env\n",
    "        conn, cursor = connect_to_database({\n",
    "            'SERVER': os.getenv('SERVER_MIS'),\n",
    "            'DATABASE': os.getenv('DATABASE_MIS'),\n",
    "            'USERNAME': os.getenv('USERNAME_MIS'),\n",
    "            'PASSWORD': os.getenv('PASSWORD_MIS'),\n",
    "            'DRIVER': os.getenv('DRIVER_MIS'),\n",
    "            'PORT': os.getenv('PORT_MIS')\n",
    "        })\n",
    "        \n",
    "        if conn and cursor:\n",
    "            try:\n",
    "                # Executar a consulta SQL e obter o DataFrame\n",
    "                df1 = execute_query_sql(conn, query_file_path_1)\n",
    "                \n",
    "                # Desconectar do banco de dados\n",
    "                conn.close()\n",
    "                \n",
    "            except Exception as e:\n",
    "                logging.error(f\"Erro ao executar a consulta SQL: {str(e)}\")\n",
    "                df1 = pd.DataFrame()  # Gerar DataFrame vazio em caso de erro na consulta\n",
    "        else:\n",
    "            # Se não foi possível conectar ao banco de dados, gerar DataFrame vazio\n",
    "            df1 = pd.DataFrame()\n",
    "    else:\n",
    "        # Se não foi possível carregar todas as variáveis de ambiente do .env, gerar DataFrame vazio\n",
    "        df1 = pd.DataFrame()\n",
    "    \n",
    "    # Continuar com o processamento do DataFrame df1 conforme necessário\n",
    "    # Exemplo: salvar df1 em um arquivo, realizar análises, etc.\n",
    "    logging.info(f\"DataFrame df1 criado com {len(df1)} linhas.\")"
   ]
  },
  {
   "cell_type": "code",
   "execution_count": 98,
   "metadata": {},
   "outputs": [
    {
     "name": "stderr",
     "output_type": "stream",
     "text": [
      "2024-06-21 13:08:23,218 - INFO - Conexão ao banco de dados estabelecida.\n",
      "C:\\Users\\int.matheus\\AppData\\Local\\Temp\\ipykernel_23640\\3102702686.py:7: UserWarning: pandas only supports SQLAlchemy connectable (engine/connection) or database string URI or sqlite3 DBAPI2 connection. Other DBAPI2 objects are not tested. Please consider using SQLAlchemy.\n",
      "  df = pd.read_sql_query(query, conn)\n",
      "2024-06-21 13:08:23,332 - INFO - Consulta SQL executada com sucesso.\n",
      "2024-06-21 13:08:23,545 - INFO - DataFrame df1 criado com 6 linhas.\n"
     ]
    }
   ],
   "source": [
    "if __name__ == \"__main__\":\n",
    "    # Defina o caminho para o primeiro arquivo .env e o primeiro arquivo SQL\n",
    "    env_file_path_8 = r'C:\\Users\\int.matheus\\Desktop\\DW\\Data-Warehouse\\Environment\\.Env_08'\n",
    "    query_file_path_1 = r'C:\\Users\\int.matheus\\Desktop\\DW\\Data-Warehouse\\Source\\ACTYON\\ACIONA_CRM\\ACIONA_CRM.SQL'\n",
    "    \n",
    "    # Carregar variáveis de ambiente do .env\n",
    "    load_dotenv(env_file_path_8)\n",
    "    \n",
    "    # Verificar se todas as variáveis de ambiente necessárias foram carregadas\n",
    "    required_vars = ['SERVER_MIS', 'DATABASE_MIS', 'USERNAME_MIS', 'PASSWORD_MIS', 'DRIVER_MIS', 'PORT_MIS']\n",
    "    if all([os.getenv(var) for var in required_vars]):\n",
    "        # Conectar ao banco de dados usando as variáveis do .env\n",
    "        conn, cursor = connect_to_database({\n",
    "            'SERVER': os.getenv('SERVER_MIS'),\n",
    "            'DATABASE': os.getenv('DATABASE_MIS'),\n",
    "            'USERNAME': os.getenv('USERNAME_MIS'),\n",
    "            'PASSWORD': os.getenv('PASSWORD_MIS'),\n",
    "            'DRIVER': os.getenv('DRIVER_MIS'),\n",
    "            'PORT': os.getenv('PORT_MIS')\n",
    "        })\n",
    "        \n",
    "        if conn and cursor:\n",
    "            try:\n",
    "                # Executar a consulta SQL e obter o DataFrame\n",
    "                df2 = execute_query_sql(conn, query_file_path_1)\n",
    "                \n",
    "                # Desconectar do banco de dados\n",
    "                conn.close()\n",
    "                \n",
    "            except Exception as e:\n",
    "                logging.error(f\"Erro ao executar a consulta SQL: {str(e)}\")\n",
    "                df2 = pd.DataFrame()  # Gerar DataFrame vazio em caso de erro na consulta\n",
    "        else:\n",
    "            # Se não foi possível conectar ao banco de dados, gerar DataFrame vazio\n",
    "            df2 = pd.DataFrame()\n",
    "    else:\n",
    "        # Se não foi possível carregar todas as variáveis de ambiente do .env, gerar DataFrame vazio\n",
    "        df2 = pd.DataFrame()\n",
    "    \n",
    "    # Continuar com o processamento do DataFrame df1 conforme necessário\n",
    "    # Exemplo: salvar df1 em um arquivo, realizar análises, etc.\n",
    "    logging.info(f\"DataFrame df1 criado com {len(df1)} linhas.\")\n",
    "    \n",
    "    "
   ]
  },
  {
   "cell_type": "code",
   "execution_count": 99,
   "metadata": {},
   "outputs": [
    {
     "name": "stdout",
     "output_type": "stream",
     "text": [
      "    CONTRATANTE_ID                   FANTASIA\n",
      "0                1  TIM - CONTROLE / POS PAGO\n",
      "1                2   TIM - ULTRA FIBRA / LIVE\n",
      "2                3                   TIM - OI\n",
      "3                4      TIM - PILOTO DEEPDIVE\n",
      "4                5          TIM - Baixo risco\n",
      "5                6           TIM - Alto risco\n",
      "6                1  TIM - CONTROLE / POS PAGO\n",
      "7                2   TIM - ULTRA FIBRA / LIVE\n",
      "8                3                   TIM - OI\n",
      "9                4      TIM - PILOTO DEEPDIVE\n",
      "10               5          TIM - Baixo risco\n",
      "11               6           TIM - Alto risco\n"
     ]
    }
   ],
   "source": [
    " # Unir os DataFrames, se ambos tiverem dados\n",
    "if not df1.empty and not df2.empty:\n",
    "        combined_df = pd.concat([df1, df2], ignore_index=True)\n",
    "elif not df1.empty:\n",
    "        combined_df = df1\n",
    "else:\n",
    "        combined_df = df2\n",
    "    \n",
    "    # Exibir o DataFrame combinado\n",
    "print(combined_df)"
   ]
  }
 ],
 "metadata": {
  "kernelspec": {
   "display_name": "Python 3",
   "language": "python",
   "name": "python3"
  },
  "language_info": {
   "codemirror_mode": {
    "name": "ipython",
    "version": 3
   },
   "file_extension": ".py",
   "mimetype": "text/x-python",
   "name": "python",
   "nbconvert_exporter": "python",
   "pygments_lexer": "ipython3",
   "version": "3.12.1"
  }
 },
 "nbformat": 4,
 "nbformat_minor": 2
}
