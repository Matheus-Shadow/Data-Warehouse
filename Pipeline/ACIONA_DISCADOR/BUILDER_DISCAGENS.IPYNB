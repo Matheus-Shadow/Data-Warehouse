{
 "cells": [
  {
   "cell_type": "code",
   "execution_count": 4,
   "metadata": {},
   "outputs": [],
   "source": [
    "import pandas as pd\n",
    "import logging\n",
    "import os\n",
    "import sys\n",
    "from dotenv import load_dotenv"
   ]
  },
  {
   "cell_type": "code",
   "execution_count": 5,
   "metadata": {},
   "outputs": [],
   "source": [
    "sys.path.insert(1, r'C:\\Users\\int.matheus\\Desktop\\DW\\Data-Warehouse\\Func')\n",
    "from utils2 import clear_env_variables, load_env, connect_to_database, execute_query_sql"
   ]
  },
  {
   "cell_type": "code",
   "execution_count": null,
   "metadata": {},
   "outputs": [],
   "source": [
    "\n",
    "if __name__ == \"__main__\":\n",
    "    logging.basicConfig(level=logging.INFO, format='%(asctime)s - %(levelname)s - %(message)s')\n",
    "\n",
    "    def process_query(env_file_path, query_file_path):\n",
    "        # Limpar variáveis de ambiente anteriores, se houver\n",
    "        clear_env_variables()\n",
    "        \n",
    "        # Carregar variáveis de ambiente do .env\n",
    "        env_vars = load_env(env_file_path)\n",
    "        \n",
    "        # Verificar se todas as variáveis de ambiente necessárias foram carregadas\n",
    "        required_vars = ['SERVER', 'DATABASE', 'USERNAME', 'PASSWORD', 'DRIVER', 'PORT']\n",
    "        if all([env_vars.get(var) for var in required_vars]):\n",
    "            # Conectar ao banco de dados usando as variáveis do .env\n",
    "            conn = connect_to_database(env_vars)\n",
    "            \n",
    "            if conn:\n",
    "                try:\n",
    "                    # Executar a consulta SQL e obter o DataFrame\n",
    "                    df = execute_query_sql(conn, query_file_path)\n",
    "                    \n",
    "                    # Desconectar do banco de dados\n",
    "                    conn.close()\n",
    "                    \n",
    "                    logging.info(f\"DataFrame criado com {len(df)} linhas.\")\n",
    "                    return df\n",
    "                \n",
    "                except Exception as e:\n",
    "                    logging.error(f\"Erro ao executar a consulta SQL: {str(e)}\")\n",
    "                    return pd.DataFrame()  # Gerar DataFrame vazio em caso de erro na consulta\n",
    "            else:\n",
    "                logging.error(\"Falha na conexão ao banco de dados.\")\n",
    "                return pd.DataFrame()  # Gerar DataFrame vazio se a conexão falhar\n",
    "        else:\n",
    "            logging.error(\"Erro: Não foi possível carregar todas as variáveis de ambiente necessárias.\")\n",
    "            return pd.DataFrame()  # Gerar DataFrame vazio se as variáveis de ambiente não forem carregadas corretamente\n",
    "\n",
    "    # Defina os caminhos para os arquivos .env e SQL\n",
    "    env_file_paths_Env_07 = [\n",
    "        r'C:\\Users\\int.matheus\\Desktop\\DW\\Data-Warehouse\\Environment\\.Env_07']\n",
    "    query_file_path_ACIONA_CRM = r'C:\\Users\\int.matheus\\Desktop\\DW\\Data-Warehouse\\Source\\ACTYON\\ACIONA_CRM\\ACIONA_CRM.SQL'\n",
    "\n",
    "    # Processar cada conjunto de arquivos .env e SQL\n",
    "    dfs = [process_query(env_file_path, query_file_path_ACIONA_CRM) for env_file_path in env_file_paths_Env_07]\n",
    "\n",
    "    # Inicialize combined_df como um DataFrame vazio\n",
    "    combined_df = pd.DataFrame()\n"
   ]
  },
  {
   "cell_type": "code",
   "execution_count": 26,
   "metadata": {},
   "outputs": [
    {
     "name": "stderr",
     "output_type": "stream",
     "text": [
      "2024-06-21 17:04:43,744 - INFO - DataFrame combinado criado com 6 linhas.\n"
     ]
    },
    {
     "data": {
      "text/html": [
       "<div>\n",
       "<style scoped>\n",
       "    .dataframe tbody tr th:only-of-type {\n",
       "        vertical-align: middle;\n",
       "    }\n",
       "\n",
       "    .dataframe tbody tr th {\n",
       "        vertical-align: top;\n",
       "    }\n",
       "\n",
       "    .dataframe thead th {\n",
       "        text-align: right;\n",
       "    }\n",
       "</style>\n",
       "<table border=\"1\" class=\"dataframe\">\n",
       "  <thead>\n",
       "    <tr style=\"text-align: right;\">\n",
       "      <th></th>\n",
       "      <th>CONTRATANTE_ID</th>\n",
       "      <th>FANTASIA</th>\n",
       "    </tr>\n",
       "  </thead>\n",
       "  <tbody>\n",
       "    <tr>\n",
       "      <th>0</th>\n",
       "      <td>1</td>\n",
       "      <td>TIM - CONTROLE / POS PAGO</td>\n",
       "    </tr>\n",
       "    <tr>\n",
       "      <th>1</th>\n",
       "      <td>2</td>\n",
       "      <td>TIM - ULTRA FIBRA / LIVE</td>\n",
       "    </tr>\n",
       "    <tr>\n",
       "      <th>2</th>\n",
       "      <td>3</td>\n",
       "      <td>TIM - OI</td>\n",
       "    </tr>\n",
       "    <tr>\n",
       "      <th>3</th>\n",
       "      <td>4</td>\n",
       "      <td>TIM - PILOTO DEEPDIVE</td>\n",
       "    </tr>\n",
       "    <tr>\n",
       "      <th>4</th>\n",
       "      <td>5</td>\n",
       "      <td>TIM - Baixo risco</td>\n",
       "    </tr>\n",
       "    <tr>\n",
       "      <th>5</th>\n",
       "      <td>6</td>\n",
       "      <td>TIM - Alto risco</td>\n",
       "    </tr>\n",
       "  </tbody>\n",
       "</table>\n",
       "</div>"
      ],
      "text/plain": [
       "   CONTRATANTE_ID                   FANTASIA\n",
       "0               1  TIM - CONTROLE / POS PAGO\n",
       "1               2   TIM - ULTRA FIBRA / LIVE\n",
       "2               3                   TIM - OI\n",
       "3               4      TIM - PILOTO DEEPDIVE\n",
       "4               5          TIM - Baixo risco\n",
       "5               6           TIM - Alto risco"
      ]
     },
     "metadata": {},
     "output_type": "display_data"
    }
   ],
   "source": [
    " # Inicialize combined_df como um DataFrame vazio\n",
    "combined_df = pd.DataFrame()\n",
    "\n",
    "# Iterar sobre a lista de DataFrames e concatená-los\n",
    "for df in dfs:\n",
    "    if not df.empty:\n",
    "         if combined_df.empty:\n",
    "                combined_df = df  # Se combined_df estiver vazio, defina-o como o primeiro DataFrame não vazio\n",
    "         else:\n",
    "             combined_df = pd.concat([combined_df, df], ignore_index=True)  # Concatene com o DataFrame existente\n",
    "\n",
    "    # Exibir o DataFrame combinado\n",
    "    logging.info(f\"DataFrame combinado criado com {len(combined_df)} linhas.\")\n",
    "    display(combined_df)  # Exibir o DataFrame combinado"
   ]
  }
 ],
 "metadata": {
  "kernelspec": {
   "display_name": "Python 3",
   "language": "python",
   "name": "python3"
  },
  "language_info": {
   "codemirror_mode": {
    "name": "ipython",
    "version": 3
   },
   "file_extension": ".py",
   "mimetype": "text/x-python",
   "name": "python",
   "nbconvert_exporter": "python",
   "pygments_lexer": "ipython3",
   "version": "3.12.1"
  }
 },
 "nbformat": 4,
 "nbformat_minor": 2
}
