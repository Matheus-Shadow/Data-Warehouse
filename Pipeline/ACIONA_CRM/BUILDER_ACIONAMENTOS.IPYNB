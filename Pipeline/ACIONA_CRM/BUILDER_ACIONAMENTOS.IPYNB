{
 "cells": [
  {
   "cell_type": "code",
   "execution_count": 3,
   "metadata": {},
   "outputs": [
    {
     "ename": "ModuleNotFoundError",
     "evalue": "No module named 'dotenv'",
     "output_type": "error",
     "traceback": [
      "\u001b[1;31m---------------------------------------------------------------------------\u001b[0m",
      "\u001b[1;31mModuleNotFoundError\u001b[0m                       Traceback (most recent call last)",
      "Cell \u001b[1;32mIn[3], line 7\u001b[0m\n\u001b[0;32m      5\u001b[0m \u001b[38;5;28;01mimport\u001b[39;00m \u001b[38;5;21;01mpsycopg2\u001b[39;00m\n\u001b[0;32m      6\u001b[0m \u001b[38;5;28;01mfrom\u001b[39;00m \u001b[38;5;21;01mdatetime\u001b[39;00m \u001b[38;5;28;01mimport\u001b[39;00m datetime\n\u001b[1;32m----> 7\u001b[0m \u001b[38;5;28;01mfrom\u001b[39;00m \u001b[38;5;21;01mdotenv\u001b[39;00m \u001b[38;5;28;01mimport\u001b[39;00m load_dotenv\n\u001b[0;32m      8\u001b[0m \u001b[38;5;28;01mimport\u001b[39;00m \u001b[38;5;21;01mos\u001b[39;00m\n",
      "\u001b[1;31mModuleNotFoundError\u001b[0m: No module named 'dotenv'"
     ]
    }
   ],
   "source": [
    "import requests\n",
    "import pandas as pd\n",
    "import numpy as np\n",
    "import pyodbc\n",
    "import psycopg2\n",
    "from datetime import datetime\n",
    "from dotenv import load_dotenv\n",
    "import os\n"
   ]
  },
  {
   "cell_type": "code",
   "execution_count": 17,
   "metadata": {},
   "outputs": [
    {
     "data": {
      "text/plain": [
       "True"
      ]
     },
     "execution_count": 17,
     "metadata": {},
     "output_type": "execute_result"
    }
   ],
   "source": [
    "# Carrega as variáveis de ambiente do arquivo .env\n",
    "load_dotenv(dotenv_path=r\"C:\\Users\\Matheus Alexander\\Desktop\\DW\\Data-Warehouse\\Environment\\.env\")"
   ]
  },
  {
   "cell_type": "code",
   "execution_count": 20,
   "metadata": {},
   "outputs": [
    {
     "name": "stdout",
     "output_type": "stream",
     "text": [
      "Variáveis de ambiente carregadas com sucesso.\n"
     ]
    }
   ],
   "source": [
    "# Acesse as variáveis de ambiente\n",
    "server = os.getenv('SERVER_MIS')\n",
    "database = os.getenv('DATABASE_MIS')\n",
    "username = os.getenv('USERNAME_MIS')\n",
    "password = os.getenv('PASSWORD_MIS')\n",
    "\n",
    "# Verifica se as variáveis foram carregadas com sucesso\n",
    "if server is None or database is None or username is None or password is None:\n",
    "    print(\"Erro: Não foi possível carregar todas as variáveis de ambiente.\")\n",
    "    # Aqui você pode decidir o que fazer em caso de erro, como lançar uma exceção ou encerrar o programa\n",
    "else:\n",
    "    print(\"Variáveis de ambiente carregadas com sucesso.\")\n"
   ]
  }
 ],
 "metadata": {
  "kernelspec": {
   "display_name": "Python 3",
   "language": "python",
   "name": "python3"
  },
  "language_info": {
   "codemirror_mode": {
    "name": "ipython",
    "version": 3
   },
   "file_extension": ".py",
   "mimetype": "text/x-python",
   "name": "python",
   "nbconvert_exporter": "python",
   "pygments_lexer": "ipython3",
   "version": "3.12.1"
  }
 },
 "nbformat": 4,
 "nbformat_minor": 2
}
