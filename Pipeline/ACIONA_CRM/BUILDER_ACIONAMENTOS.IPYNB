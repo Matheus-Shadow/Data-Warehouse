{
 "cells": [
  {
   "cell_type": "code",
   "execution_count": 1,
   "metadata": {},
   "outputs": [],
   "source": [
    "import requests\n",
    "import pandas as pd\n",
    "import numpy as np\n",
    "import pyodbc\n",
    "import psycopg2\n",
    "from datetime import datetime\n",
    "from dotenv import load_dotenv\n",
    "import os\n",
    "import logging"
   ]
  },
  {
   "cell_type": "code",
   "execution_count": 2,
   "metadata": {},
   "outputs": [],
   "source": [
    "# Configurar o logging\n",
    "logging.basicConfig(level=logging.INFO, format='%(asctime)s - %(levelname)s - %(message)s')\n"
   ]
  },
  {
   "cell_type": "code",
   "execution_count": 3,
   "metadata": {},
   "outputs": [],
   "source": [
    "def clear_env_variables():\n",
    "    \"\"\"\n",
    "    Limpa as variáveis de ambiente específicas usadas para conexão ao banco de dados.\n",
    "    \"\"\"\n",
    "    keys_to_clear = ['SERVER_MIS', 'DATABASE_MIS', 'USERNAME_MIS', 'PASSWORD_MIS', 'DRIVER_MIS', 'PORT_MIS']\n",
    "    for key in keys_to_clear:\n",
    "        if key in os.environ:\n",
    "            del os.environ[key]"
   ]
  },
  {
   "cell_type": "code",
   "execution_count": 4,
   "metadata": {},
   "outputs": [
    {
     "data": {
      "text/plain": [
       "\"\\nExemplo de uso:\\n\\nenv_file_path = 'path/to/your/.env'  # Substitua pelo caminho para o seu arquivo .env\\n\\nconnection, cursor = connect_to_database(env_file_path)\\n\\nAgora você pode usar 'connection' e 'cursor' para interagir com o banco de dados\\n\""
      ]
     },
     "execution_count": 4,
     "metadata": {},
     "output_type": "execute_result"
    }
   ],
   "source": [
    "def connect_to_database(env_file):\n",
    "    \"\"\"\n",
    "    Carrega variáveis de ambiente de um arquivo .env especificado e estabelece uma conexão com o banco de dados.\n",
    "    \n",
    "    Args:\n",
    "    env_file (str): Caminho para o arquivo .env.\n",
    "    \n",
    "    Returns:\n",
    "    connection: Objeto de conexão com o banco de dados.\n",
    "    cursor: Objeto cursor para interagir com o banco de dados.\n",
    "    \"\"\"\n",
    "\n",
    "    # Limpar variáveis de ambiente específicas\n",
    "    clear_env_variables()\n",
    "    # Carregar variáveis de ambiente do arquivo .env especificado\n",
    "    load_dotenv(env_file)\n",
    "    \n",
    "    # Parâmetros da conexão\n",
    "    SERVER = os.getenv('SERVER_MIS')\n",
    "    DATABASE = os.getenv('DATABASE_MIS')\n",
    "    USERNAME = os.getenv('USERNAME_MIS')\n",
    "    PASSWORD = os.getenv('PASSWORD_MIS')\n",
    "    DRIVER = os.getenv('DRIVER_MIS')\n",
    "    PORT = os.getenv('PORT_MIS') \n",
    "    \n",
    "    # Logar as variáveis carregadas\n",
    "    logging.info(f\"Servidor: {SERVER}\")\n",
    "    logging.info(f\"Banco de Dados: {DATABASE}\")\n",
    "    logging.info(f\"Usuário: {USERNAME}\")\n",
    "\n",
    "\n",
    "    # Verificar se todas as variáveis de ambiente necessárias foram carregadas\n",
    "    if not all([SERVER, DATABASE, USERNAME, PASSWORD, DRIVER]):\n",
    "        raise ValueError(\"Certifique-se de que todas as variáveis de ambiente (SERVER_MIS, DATABASE_MIS, USERNAME_MIS, PASSWORD_MIS, DRIVER_MIS) estejam definidas no arquivo .env.\")\n",
    "    \n",
    "    # Conexão com o SQL Server\n",
    "    connection_string = f'DRIVER={DRIVER};SERVER={SERVER},{PORT};DATABASE={DATABASE};UID={USERNAME};PWD={PASSWORD}'\n",
    "    connection = pyodbc.connect(connection_string)\n",
    "    cursor = connection.cursor()\n",
    "    \n",
    "    return connection, cursor\n",
    "\n",
    "\"\"\"\n",
    "Exemplo de uso:\n",
    "\n",
    "env_file_path = 'path/to/your/.env'  # Substitua pelo caminho para o seu arquivo .env\n",
    "\n",
    "connection, cursor = connect_to_database(env_file_path)\n",
    "\n",
    "Agora você pode usar 'connection' e 'cursor' para interagir com o banco de dados\n",
    "\"\"\"\n"
   ]
  },
  {
   "cell_type": "code",
   "execution_count": 5,
   "metadata": {},
   "outputs": [
    {
     "name": "stderr",
     "output_type": "stream",
     "text": [
      "2024-07-02 14:42:06,388 - INFO - Servidor: 10.10.220.101\n",
      "2024-07-02 14:42:06,391 - INFO - Banco de Dados: RPL_OLOS\n",
      "2024-07-02 14:42:06,393 - INFO - Usuário: srvc.mis.prd\n"
     ]
    },
    {
     "name": "stderr",
     "output_type": "stream",
     "text": [
      "2024-07-02 14:42:06,495 - INFO - Conexão estabelecida com sucesso.\n"
     ]
    }
   ],
   "source": [
    "# Carrega as variáveis de ambiente do arquivo .env\n",
    "#load_dotenv(dotenv_path=r\"C:\\Users\\Matheus Alexander\\Desktop\\DW\\Data-Warehouse\\Environment\\.env\")\n",
    "# Exemplo de uso\n",
    "if __name__ == \"__main__\":\n",
    "    env_file_path = r'C:\\Users\\int.matheus\\Desktop\\DW\\Data-Warehouse\\Environment\\.Env_01'  # Substitua pelo caminho para o seu arquivo .env\n",
    "    connection, cursor = connect_to_database(env_file_path)\n",
    "    logging.info(\"Conexão estabelecida com sucesso.\")"
   ]
  },
  {
   "cell_type": "code",
   "execution_count": 6,
   "metadata": {},
   "outputs": [],
   "source": [
    "data = cursor.execute(\"SELECT TOP 10 *  FROM Reason\")\n",
    "#data = cursor.execute(\"SELECT TOP 10 *  FROM CallDetail\")"
   ]
  },
  {
   "cell_type": "code",
   "execution_count": 7,
   "metadata": {},
   "outputs": [
    {
     "data": {
      "text/html": [
       "<div>\n",
       "<style scoped>\n",
       "    .dataframe tbody tr th:only-of-type {\n",
       "        vertical-align: middle;\n",
       "    }\n",
       "\n",
       "    .dataframe tbody tr th {\n",
       "        vertical-align: top;\n",
       "    }\n",
       "\n",
       "    .dataframe thead th {\n",
       "        text-align: right;\n",
       "    }\n",
       "</style>\n",
       "<table border=\"1\" class=\"dataframe\">\n",
       "  <thead>\n",
       "    <tr style=\"text-align: right;\">\n",
       "      <th></th>\n",
       "      <th>Reasonld</th>\n",
       "      <th>Activated</th>\n",
       "      <th>LastModifiedUserld</th>\n",
       "      <th>LastModified</th>\n",
       "      <th>Description</th>\n",
       "    </tr>\n",
       "  </thead>\n",
       "  <tbody>\n",
       "    <tr>\n",
       "      <th>0</th>\n",
       "      <td>100</td>\n",
       "      <td>1</td>\n",
       "      <td>1</td>\n",
       "      <td>2015-11-03 12:38:49.470</td>\n",
       "      <td>Reuniao</td>\n",
       "    </tr>\n",
       "    <tr>\n",
       "      <th>1</th>\n",
       "      <td>101</td>\n",
       "      <td>1</td>\n",
       "      <td>1</td>\n",
       "      <td>2015-11-03 12:39:02.187</td>\n",
       "      <td>Almoco</td>\n",
       "    </tr>\n",
       "    <tr>\n",
       "      <th>2</th>\n",
       "      <td>102</td>\n",
       "      <td>1</td>\n",
       "      <td>11809</td>\n",
       "      <td>2023-09-05 11:51:25.280</td>\n",
       "      <td>Lanche</td>\n",
       "    </tr>\n",
       "    <tr>\n",
       "      <th>3</th>\n",
       "      <td>103</td>\n",
       "      <td>1</td>\n",
       "      <td>1</td>\n",
       "      <td>2015-11-03 12:39:21.797</td>\n",
       "      <td>Saida Particular</td>\n",
       "    </tr>\n",
       "    <tr>\n",
       "      <th>4</th>\n",
       "      <td>104</td>\n",
       "      <td>1</td>\n",
       "      <td>1</td>\n",
       "      <td>2015-11-03 12:39:30.893</td>\n",
       "      <td>Banheiro</td>\n",
       "    </tr>\n",
       "    <tr>\n",
       "      <th>5</th>\n",
       "      <td>105</td>\n",
       "      <td>1</td>\n",
       "      <td>1</td>\n",
       "      <td>2015-11-03 12:39:51.780</td>\n",
       "      <td>Atendimento Recepcao</td>\n",
       "    </tr>\n",
       "    <tr>\n",
       "      <th>6</th>\n",
       "      <td>106</td>\n",
       "      <td>1</td>\n",
       "      <td>1</td>\n",
       "      <td>2015-11-03 12:40:04.940</td>\n",
       "      <td>Feedback</td>\n",
       "    </tr>\n",
       "    <tr>\n",
       "      <th>7</th>\n",
       "      <td>107</td>\n",
       "      <td>1</td>\n",
       "      <td>1</td>\n",
       "      <td>2015-11-03 12:40:15.057</td>\n",
       "      <td>Tabulacao</td>\n",
       "    </tr>\n",
       "    <tr>\n",
       "      <th>8</th>\n",
       "      <td>108</td>\n",
       "      <td>1</td>\n",
       "      <td>1</td>\n",
       "      <td>2015-11-03 12:40:27.677</td>\n",
       "      <td>Livre</td>\n",
       "    </tr>\n",
       "    <tr>\n",
       "      <th>9</th>\n",
       "      <td>109</td>\n",
       "      <td>1</td>\n",
       "      <td>1163</td>\n",
       "      <td>2021-07-20 11:37:30.350</td>\n",
       "      <td>Em Atendimento</td>\n",
       "    </tr>\n",
       "  </tbody>\n",
       "</table>\n",
       "</div>"
      ],
      "text/plain": [
       "   Reasonld  Activated  LastModifiedUserld            LastModified  \\\n",
       "0       100          1                   1 2015-11-03 12:38:49.470   \n",
       "1       101          1                   1 2015-11-03 12:39:02.187   \n",
       "2       102          1               11809 2023-09-05 11:51:25.280   \n",
       "3       103          1                   1 2015-11-03 12:39:21.797   \n",
       "4       104          1                   1 2015-11-03 12:39:30.893   \n",
       "5       105          1                   1 2015-11-03 12:39:51.780   \n",
       "6       106          1                   1 2015-11-03 12:40:04.940   \n",
       "7       107          1                   1 2015-11-03 12:40:15.057   \n",
       "8       108          1                   1 2015-11-03 12:40:27.677   \n",
       "9       109          1                1163 2021-07-20 11:37:30.350   \n",
       "\n",
       "            Description  \n",
       "0               Reuniao  \n",
       "1                Almoco  \n",
       "2                Lanche  \n",
       "3      Saida Particular  \n",
       "4              Banheiro  \n",
       "5  Atendimento Recepcao  \n",
       "6              Feedback  \n",
       "7             Tabulacao  \n",
       "8                 Livre  \n",
       "9        Em Atendimento  "
      ]
     },
     "metadata": {},
     "output_type": "display_data"
    }
   ],
   "source": [
    "# Obter os dados\n",
    "columns = [column[0] for column in cursor.description]  # Obter nomes das colunas\n",
    "data = cursor.fetchall()  # Obter todas as linhas\n",
    "\n",
    "# Converter os dados para uma lista de dicionários\n",
    "result = [dict(zip(columns, row)) for row in data]\n",
    "\n",
    "# Opcional: Converter os dados para um DataFrame do Pandas\n",
    "df = pd.DataFrame(result)\n",
    "\n",
    "# Exibir os resultados\n",
    "display(df)\n",
    "\n",
    "\n"
   ]
  },
  {
   "cell_type": "code",
   "execution_count": 8,
   "metadata": {},
   "outputs": [],
   "source": [
    "# Fechar a conexão\n",
    "cursor.close()\n",
    "connection.close()"
   ]
  }
 ],
 "metadata": {
  "kernelspec": {
   "display_name": "Python 3",
   "language": "python",
   "name": "python3"
  },
  "language_info": {
   "codemirror_mode": {
    "name": "ipython",
    "version": 3
   },
   "file_extension": ".py",
   "mimetype": "text/x-python",
   "name": "python",
   "nbconvert_exporter": "python",
   "pygments_lexer": "ipython3",
   "version": "3.12.1"
  }
 },
 "nbformat": 4,
 "nbformat_minor": 2
}
