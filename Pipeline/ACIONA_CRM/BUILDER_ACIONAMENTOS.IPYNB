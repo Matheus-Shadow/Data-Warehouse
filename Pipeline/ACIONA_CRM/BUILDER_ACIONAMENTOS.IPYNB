{
 "cells": [
  {
   "cell_type": "code",
   "execution_count": 166,
   "metadata": {},
   "outputs": [],
   "source": [
    "import requests\n",
    "import pandas as pd\n",
    "import numpy as np\n",
    "import pyodbc\n",
    "import psycopg2\n",
    "from datetime import datetime\n",
    "from dotenv import load_dotenv\n",
    "import os\n",
    "import logging"
   ]
  },
  {
   "cell_type": "code",
   "execution_count": 167,
   "metadata": {},
   "outputs": [],
   "source": [
    "# Configurar o logging\n",
    "logging.basicConfig(level=logging.INFO, format='%(asctime)s - %(levelname)s - %(message)s')\n"
   ]
  },
  {
   "cell_type": "code",
   "execution_count": 168,
   "metadata": {},
   "outputs": [],
   "source": [
    "def clear_env_variables():\n",
    "    \"\"\"\n",
    "    Limpa as variáveis de ambiente específicas usadas para conexão ao banco de dados.\n",
    "    \"\"\"\n",
    "    keys_to_clear = ['SERVER_MIS', 'DATABASE_MIS', 'USERNAME_MIS', 'PASSWORD_MIS', 'DRIVER_MIS', 'PORT_MIS']\n",
    "    for key in keys_to_clear:\n",
    "        if key in os.environ:\n",
    "            del os.environ[key]"
   ]
  },
  {
   "cell_type": "code",
   "execution_count": 169,
   "metadata": {},
   "outputs": [
    {
     "data": {
      "text/plain": [
       "\"\\nExemplo de uso:\\n\\nenv_file_path = 'path/to/your/.env'  # Substitua pelo caminho para o seu arquivo .env\\n\\nconnection, cursor = connect_to_database(env_file_path)\\n\\nAgora você pode usar 'connection' e 'cursor' para interagir com o banco de dados\\n\""
      ]
     },
     "execution_count": 169,
     "metadata": {},
     "output_type": "execute_result"
    }
   ],
   "source": [
    "def connect_to_database(env_file):\n",
    "    \"\"\"\n",
    "    Carrega variáveis de ambiente de um arquivo .env especificado e estabelece uma conexão com o banco de dados.\n",
    "    \n",
    "    Args:\n",
    "    env_file (str): Caminho para o arquivo .env.\n",
    "    \n",
    "    Returns:\n",
    "    connection: Objeto de conexão com o banco de dados.\n",
    "    cursor: Objeto cursor para interagir com o banco de dados.\n",
    "    \"\"\"\n",
    "\n",
    "    # Limpar variáveis de ambiente específicas\n",
    "    clear_env_variables()\n",
    "    # Carregar variáveis de ambiente do arquivo .env especificado\n",
    "    load_dotenv(env_file)\n",
    "    \n",
    "    # Parâmetros da conexão\n",
    "    SERVER = os.getenv('SERVER_MIS')\n",
    "    DATABASE = os.getenv('DATABASE_MIS')\n",
    "    USERNAME = os.getenv('USERNAME_MIS')\n",
    "    PASSWORD = os.getenv('PASSWORD_MIS')\n",
    "    DRIVER = os.getenv('DRIVER_MIS')\n",
    "    PORT = os.getenv('PORT_MIS') \n",
    "    \n",
    "    # Logar as variáveis carregadas\n",
    "    logging.info(f\"Servidor: {SERVER}\")\n",
    "    logging.info(f\"Banco de Dados: {DATABASE}\")\n",
    "    logging.info(f\"Usuário: {USERNAME}\")\n",
    "\n",
    "\n",
    "    # Verificar se todas as variáveis de ambiente necessárias foram carregadas\n",
    "    if not all([SERVER, DATABASE, USERNAME, PASSWORD, DRIVER]):\n",
    "        raise ValueError(\"Certifique-se de que todas as variáveis de ambiente (SERVER_MIS, DATABASE_MIS, USERNAME_MIS, PASSWORD_MIS, DRIVER_MIS) estejam definidas no arquivo .env.\")\n",
    "    \n",
    "    # Conexão com o SQL Server\n",
    "    connection_string = f'DRIVER={DRIVER};SERVER={SERVER},{PORT};DATABASE={DATABASE};UID={USERNAME};PWD={PASSWORD}'\n",
    "    connection = pyodbc.connect(connection_string)\n",
    "    cursor = connection.cursor()\n",
    "    \n",
    "    return connection, cursor\n",
    "\n",
    "\"\"\"\n",
    "Exemplo de uso:\n",
    "\n",
    "env_file_path = 'path/to/your/.env'  # Substitua pelo caminho para o seu arquivo .env\n",
    "\n",
    "connection, cursor = connect_to_database(env_file_path)\n",
    "\n",
    "Agora você pode usar 'connection' e 'cursor' para interagir com o banco de dados\n",
    "\"\"\"\n"
   ]
  },
  {
   "cell_type": "code",
   "execution_count": 170,
   "metadata": {},
   "outputs": [
    {
     "name": "stderr",
     "output_type": "stream",
     "text": [
      "2024-06-20 17:28:18,467 - INFO - Servidor: 10.10.220.101\n",
      "2024-06-20 17:28:18,467 - INFO - Banco de Dados: RPL_OLOS\n",
      "2024-06-20 17:28:18,474 - INFO - Usuário: srvc.mis.prd\n",
      "2024-06-20 17:28:18,513 - INFO - Conexão estabelecida com sucesso.\n"
     ]
    }
   ],
   "source": [
    "# Carrega as variáveis de ambiente do arquivo .env\n",
    "#load_dotenv(dotenv_path=r\"C:\\Users\\Matheus Alexander\\Desktop\\DW\\Data-Warehouse\\Environment\\.env\")\n",
    "# Exemplo de uso\n",
    "if __name__ == \"__main__\":\n",
    "    env_file_path = r'C:\\Users\\int.matheus\\Desktop\\DW\\Data-Warehouse\\Environment\\.Env_01'  # Substitua pelo caminho para o seu arquivo .env\n",
    "    connection, cursor = connect_to_database(env_file_path)\n",
    "    logging.info(\"Conexão estabelecida com sucesso.\")"
   ]
  },
  {
   "cell_type": "code",
   "execution_count": 171,
   "metadata": {},
   "outputs": [],
   "source": [
    "data = cursor.execute(\"SELECT TOP 10 *  FROM Reason\")\n",
    "#data = cursor.execute(\"SELECT TOP 10 *  FROM CallDetail\")"
   ]
  },
  {
   "cell_type": "code",
   "execution_count": null,
   "metadata": {},
   "outputs": [],
   "source": [
    "# Obter os dados\n",
    "columns = [column[0] for column in cursor.description]  # Obter nomes das colunas\n",
    "data = cursor.fetchall()  # Obter todas as linhas\n",
    "\n",
    "# Converter os dados para uma lista de dicionários\n",
    "result = [dict(zip(columns, row)) for row in data]\n",
    "\n",
    "# Opcional: Converter os dados para um DataFrame do Pandas\n",
    "df = pd.DataFrame(result)\n",
    "\n",
    "# Exibir os resultados\n",
    "display(df)\n",
    "\n",
    "\n"
   ]
  },
  {
   "cell_type": "code",
   "execution_count": 173,
   "metadata": {},
   "outputs": [],
   "source": [
    "# Fechar a conexão\n",
    "cursor.close()\n",
    "connection.close()"
   ]
  }
 ],
 "metadata": {
  "kernelspec": {
   "display_name": "Python 3",
   "language": "python",
   "name": "python3"
  },
  "language_info": {
   "codemirror_mode": {
    "name": "ipython",
    "version": 3
   },
   "file_extension": ".py",
   "mimetype": "text/x-python",
   "name": "python",
   "nbconvert_exporter": "python",
   "pygments_lexer": "ipython3",
   "version": "3.12.1"
  }
 },
 "nbformat": 4,
 "nbformat_minor": 2
}
